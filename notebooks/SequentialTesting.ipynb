{
  "nbformat": 4,
  "nbformat_minor": 0,
  "metadata": {
    "colab": {
      "provenance": [],
      "collapsed_sections": []
    },
    "kernelspec": {
      "name": "python3",
      "display_name": "Python 3"
    }
  },
  "cells": [
    {
      "cell_type": "markdown",
      "metadata": {
        "id": "46ALLDHYx_Yl"
      },
      "source": [
        "## Sequential testing\n",
        "A common issue with classical A/B-tests, especially when you want to be able to detect small differences, is that the sample size needed can be prohibitively large. In many cases it can take several weeks, months or even years to collect enough data to conclude a test. \n",
        "\n",
        "*   The lower number of errors we require, the larger sample size we need.\n",
        "* The smaller the difference we want to detect, the larger sample size is required.\n",
        "\n",
        "Sequential sampling works in a very non-traditional way; instead of a fixed sample size, you choose one item (or a few) at a time, and then test your hypothesis. You can either:\n",
        "\n",
        "* Reject the null hypothesis (H0) in favor of the alternate hypothesis (H1) and stop,\n",
        "* Keep the null hypothesis and stop,\n",
        "* unable to reach either conclusion with current observation and continue sampling.\n",
        "\n",
        "### Advantage of Sequential testing over classic a/b testing\n",
        "\n",
        "\n",
        "*   optimize necessary observation (sample size)\n",
        "*   reduce the likelihood of error\n",
        "* gives a chance to finish experiments earlier without increasing the possibility of false results\n",
        "\n",
        "**N.B: Unlike classical fixed sample-size tests, where significance is only checked after all samples have been collected, this test will continously check for significance at every new sample and stop the test as soon as a significant result is detected, while still guaranteeing the same type-1 and type-2 errors as the fixed-samplesize test.**\n",
        "\n",
        "## Common sequential testing algorithms\n",
        "- [Evan Miller Simple Sequential A/B Testing](https://www.evanmiller.org/sequential-ab-testing.html)\n",
        "- [Sequential probability ratio testing (SPRT)](https://en.wikipedia.org/wiki/Sequential_probability_ratio_test)\n",
        "\n",
        "The Evan Miller sequential procedure for one-sided test works as follows:\n",
        "* choose a sample size \\(N\\). [Here](https://www.evanmiller.org/ab-testing/sequential.html) is the link to define N\n",
        "* Assign subjects randomly to the treatment and control, with 50% probability each.\n",
        "* Track the number of incoming successes from the treatment group. Call this number \\(T\\).\n",
        "* Track the number of incoming successes from the control group. Call this number \\(C\\).\n",
        "* If \\(T-C\\) reaches \\(2\\sqrt{N}\\), stop the test. Declare the treatment to be the winner.\n",
        "* If \\(T+C\\) reaches \\(N\\), stop the test. Declare no winner.\n",
        "\n",
        "The two-sided test is essentially the same, but with an alternate ending:\n",
        "* If \\(T-C\\) reaches \\(2.25\\sqrt{N}\\), stop the test. Declare the treatment to be the winner.\n",
        "* If \\(C-T\\) reaches \\(2.25\\sqrt{N}\\), stop the test. Declare the control to be the winner.\n",
        "* If \\(T+C\\) reaches \\(N\\), stop the test. Declare no winner.\n",
        "\n",
        "**N.B: This test completely ignores the number of failures in each group, which makes it significantly easier to implement in low-conversion settings. However**\n",
        "- **If we hit the threshold without having reached statistical proof, we cannot continue the experiment.**\n",
        "- **Even if preliminary evidence says that one version is terrible, we will keep losing conversions until we hit an arbitrarly pre-agreed threshold.**\n",
        "\n",
        "### Sequential probability ratio testing (SPRT)\n",
        "SPRT is based on the likelihood ratio statistic.\n",
        "#### Variants of SPRT\n",
        "- [Wald's(1947) sequential probability ratio test](http://en.wikipedia.org/wiki/Sequential_probability_ratio_test)\n",
        " * Wald's test uses one pair of observations at each stage and ignores tied observations and thus reduces a test of a single proportion.\n",
        "- [Conditional sequential probability ratio test](http://www.jstor.org/stable/2346379?seq=1#page_scan_tab_contents)\n",
        " * used to calculate tied observations b/n two proportions. So, determining statistical significance with two distributional streams of data can be used for conditional sprt.\n",
        "- [Sequential Generalized Likelihood Ratio Test](https://www.auduno.com/2014/12/25/rapid-a-b-testing-with-sequential-analysis/)\n",
        "  * used to measure tied observation. Has stoping rule estimation problem.\n",
        "\n",
        "We focus on conditional SPRT for this challenge.\n",
        "\n",
        "General steps of conditional SPRT\n",
        "\n",
        "1. Calculate critical upper and lower decision boundaries\n",
        "2. Perform cummlative sum of the observation\n",
        "3. calculate test statistics(likelihood ration) for each of the observations \n",
        "4. calculate upper and lower limits for exposed group\n",
        "5. apply stopping\n",
        "\n",
        "#### Stopping Rule\n",
        "\n",
        "1. If the log probability ratio greater than or equal to the upper critical limit then the model reject the null hypothesis with the favor of alternative hypothesis (i.e. accept H1 (conclude that version two is better than version one)) and terminate the test.\n",
        "2. If the log probability ratio less than or equal to the lower critical limit then accept the null hypothesis (i.e. conclude that there is no difference between the two groups) and terminate the test.\n",
        "3. If neither critical limit is reached, conduct another trial and continue the test.\n",
        "\n",
        "One-sided SPRT\n",
        "\n",
        "![image.png](data:image/png;base64,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)\n",
        "\n",
        "Two-sided SPRT\n",
        "\n",
        "![image.png](data:image/png;base64,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)\n",
        "\n",
        "Next we will write python implementation for conditional SPRT\n"
      ]
    },
    {
      "cell_type": "markdown",
      "metadata": {
        "id": "iftqV_euXReL"
      },
      "source": [
        "### Write a function to feach data."
      ]
    },
    {
      "cell_type": "code",
      "source": [
        "from google.colab import drive\n",
        "drive.mount('/content/drive')"
      ],
      "metadata": {
        "colab": {
          "base_uri": "https://localhost:8080/"
        },
        "id": "D2WQKgJJgiqF",
        "outputId": "a7e65e72-a80d-4479-e754-a68b0b28d4d1"
      },
      "execution_count": 1,
      "outputs": [
        {
          "output_type": "stream",
          "name": "stdout",
          "text": [
            "Mounted at /content/drive\n"
          ]
        }
      ]
    },
    {
      "cell_type": "code",
      "source": [
        "%cd '/content/drive/MyDrive'"
      ],
      "metadata": {
        "colab": {
          "base_uri": "https://localhost:8080/"
        },
        "id": "kv9fFeTB2QGO",
        "outputId": "01d68628-3fa0-4fc6-8298-9198cbee84f6"
      },
      "execution_count": 2,
      "outputs": [
        {
          "output_type": "stream",
          "name": "stdout",
          "text": [
            "/content/drive/MyDrive\n"
          ]
        }
      ]
    },
    {
      "cell_type": "code",
      "metadata": {
        "id": "-FE3ou80b97z"
      },
      "source": [
        "import numpy as np\n",
        "import pandas as pd\n",
        "import matplotlib.pyplot as plt\n",
        "import os, sys\n",
        "import datetime\n",
        "import seaborn as sns\n",
        "import scipy.stats as stats\n",
        "from scipy.stats import chi2_contingency, beta, binom\n",
        "from statsmodels.stats.proportion import proportions_ztest\n",
        "from matplotlib.lines import Line2D\n",
        "import plotly.graph_objs as go\n",
        "import matplotlib.ticker as ticker\n",
        "import math"
      ],
      "execution_count": 49,
      "outputs": []
    },
    {
      "cell_type": "code",
      "source": [
        "data=pd.read_csv('AdSmartABdata.csv')"
      ],
      "metadata": {
        "id": "RXKjEU8tkSK3"
      },
      "execution_count": null,
      "outputs": []
    },
    {
      "cell_type": "code",
      "source": [
        "data.head()"
      ],
      "metadata": {
        "id": "oALHU3FJGRWI",
        "colab": {
          "base_uri": "https://localhost:8080/",
          "height": 206
        },
        "outputId": "30173659-8ffe-43ac-8e73-2a9f601ec21b"
      },
      "execution_count": 7,
      "outputs": [
        {
          "output_type": "execute_result",
          "data": {
            "text/plain": [
              "                             auction_id experiment        date  hour  \\\n",
              "0  0008ef63-77a7-448b-bd1e-075f42c55e39    exposed  2020-07-10     8   \n",
              "1  000eabc5-17ce-4137-8efe-44734d914446    exposed  2020-07-07    10   \n",
              "2  0016d14a-ae18-4a02-a204-6ba53b52f2ed    exposed  2020-07-05     2   \n",
              "3  00187412-2932-4542-a8ef-3633901c98d9    control  2020-07-03    15   \n",
              "4  001a7785-d3fe-4e11-a344-c8735acacc2c    control  2020-07-03    15   \n",
              "\n",
              "          device_make  platform_os                browser  yes  no  \n",
              "0  Generic Smartphone            6          Chrome Mobile    0   0  \n",
              "1  Generic Smartphone            6          Chrome Mobile    0   0  \n",
              "2               E5823            6  Chrome Mobile WebView    0   1  \n",
              "3   Samsung SM-A705FN            6               Facebook    0   0  \n",
              "4  Generic Smartphone            6          Chrome Mobile    0   0  "
            ],
            "text/html": [
              "\n",
              "  <div id=\"df-2edf32ba-5381-4caa-a734-d5bf22bc1467\">\n",
              "    <div class=\"colab-df-container\">\n",
              "      <div>\n",
              "<style scoped>\n",
              "    .dataframe tbody tr th:only-of-type {\n",
              "        vertical-align: middle;\n",
              "    }\n",
              "\n",
              "    .dataframe tbody tr th {\n",
              "        vertical-align: top;\n",
              "    }\n",
              "\n",
              "    .dataframe thead th {\n",
              "        text-align: right;\n",
              "    }\n",
              "</style>\n",
              "<table border=\"1\" class=\"dataframe\">\n",
              "  <thead>\n",
              "    <tr style=\"text-align: right;\">\n",
              "      <th></th>\n",
              "      <th>auction_id</th>\n",
              "      <th>experiment</th>\n",
              "      <th>date</th>\n",
              "      <th>hour</th>\n",
              "      <th>device_make</th>\n",
              "      <th>platform_os</th>\n",
              "      <th>browser</th>\n",
              "      <th>yes</th>\n",
              "      <th>no</th>\n",
              "    </tr>\n",
              "  </thead>\n",
              "  <tbody>\n",
              "    <tr>\n",
              "      <th>0</th>\n",
              "      <td>0008ef63-77a7-448b-bd1e-075f42c55e39</td>\n",
              "      <td>exposed</td>\n",
              "      <td>2020-07-10</td>\n",
              "      <td>8</td>\n",
              "      <td>Generic Smartphone</td>\n",
              "      <td>6</td>\n",
              "      <td>Chrome Mobile</td>\n",
              "      <td>0</td>\n",
              "      <td>0</td>\n",
              "    </tr>\n",
              "    <tr>\n",
              "      <th>1</th>\n",
              "      <td>000eabc5-17ce-4137-8efe-44734d914446</td>\n",
              "      <td>exposed</td>\n",
              "      <td>2020-07-07</td>\n",
              "      <td>10</td>\n",
              "      <td>Generic Smartphone</td>\n",
              "      <td>6</td>\n",
              "      <td>Chrome Mobile</td>\n",
              "      <td>0</td>\n",
              "      <td>0</td>\n",
              "    </tr>\n",
              "    <tr>\n",
              "      <th>2</th>\n",
              "      <td>0016d14a-ae18-4a02-a204-6ba53b52f2ed</td>\n",
              "      <td>exposed</td>\n",
              "      <td>2020-07-05</td>\n",
              "      <td>2</td>\n",
              "      <td>E5823</td>\n",
              "      <td>6</td>\n",
              "      <td>Chrome Mobile WebView</td>\n",
              "      <td>0</td>\n",
              "      <td>1</td>\n",
              "    </tr>\n",
              "    <tr>\n",
              "      <th>3</th>\n",
              "      <td>00187412-2932-4542-a8ef-3633901c98d9</td>\n",
              "      <td>control</td>\n",
              "      <td>2020-07-03</td>\n",
              "      <td>15</td>\n",
              "      <td>Samsung SM-A705FN</td>\n",
              "      <td>6</td>\n",
              "      <td>Facebook</td>\n",
              "      <td>0</td>\n",
              "      <td>0</td>\n",
              "    </tr>\n",
              "    <tr>\n",
              "      <th>4</th>\n",
              "      <td>001a7785-d3fe-4e11-a344-c8735acacc2c</td>\n",
              "      <td>control</td>\n",
              "      <td>2020-07-03</td>\n",
              "      <td>15</td>\n",
              "      <td>Generic Smartphone</td>\n",
              "      <td>6</td>\n",
              "      <td>Chrome Mobile</td>\n",
              "      <td>0</td>\n",
              "      <td>0</td>\n",
              "    </tr>\n",
              "  </tbody>\n",
              "</table>\n",
              "</div>\n",
              "      <button class=\"colab-df-convert\" onclick=\"convertToInteractive('df-2edf32ba-5381-4caa-a734-d5bf22bc1467')\"\n",
              "              title=\"Convert this dataframe to an interactive table.\"\n",
              "              style=\"display:none;\">\n",
              "        \n",
              "  <svg xmlns=\"http://www.w3.org/2000/svg\" height=\"24px\"viewBox=\"0 0 24 24\"\n",
              "       width=\"24px\">\n",
              "    <path d=\"M0 0h24v24H0V0z\" fill=\"none\"/>\n",
              "    <path d=\"M18.56 5.44l.94 2.06.94-2.06 2.06-.94-2.06-.94-.94-2.06-.94 2.06-2.06.94zm-11 1L8.5 8.5l.94-2.06 2.06-.94-2.06-.94L8.5 2.5l-.94 2.06-2.06.94zm10 10l.94 2.06.94-2.06 2.06-.94-2.06-.94-.94-2.06-.94 2.06-2.06.94z\"/><path d=\"M17.41 7.96l-1.37-1.37c-.4-.4-.92-.59-1.43-.59-.52 0-1.04.2-1.43.59L10.3 9.45l-7.72 7.72c-.78.78-.78 2.05 0 2.83L4 21.41c.39.39.9.59 1.41.59.51 0 1.02-.2 1.41-.59l7.78-7.78 2.81-2.81c.8-.78.8-2.07 0-2.86zM5.41 20L4 18.59l7.72-7.72 1.47 1.35L5.41 20z\"/>\n",
              "  </svg>\n",
              "      </button>\n",
              "      \n",
              "  <style>\n",
              "    .colab-df-container {\n",
              "      display:flex;\n",
              "      flex-wrap:wrap;\n",
              "      gap: 12px;\n",
              "    }\n",
              "\n",
              "    .colab-df-convert {\n",
              "      background-color: #E8F0FE;\n",
              "      border: none;\n",
              "      border-radius: 50%;\n",
              "      cursor: pointer;\n",
              "      display: none;\n",
              "      fill: #1967D2;\n",
              "      height: 32px;\n",
              "      padding: 0 0 0 0;\n",
              "      width: 32px;\n",
              "    }\n",
              "\n",
              "    .colab-df-convert:hover {\n",
              "      background-color: #E2EBFA;\n",
              "      box-shadow: 0px 1px 2px rgba(60, 64, 67, 0.3), 0px 1px 3px 1px rgba(60, 64, 67, 0.15);\n",
              "      fill: #174EA6;\n",
              "    }\n",
              "\n",
              "    [theme=dark] .colab-df-convert {\n",
              "      background-color: #3B4455;\n",
              "      fill: #D2E3FC;\n",
              "    }\n",
              "\n",
              "    [theme=dark] .colab-df-convert:hover {\n",
              "      background-color: #434B5C;\n",
              "      box-shadow: 0px 1px 3px 1px rgba(0, 0, 0, 0.15);\n",
              "      filter: drop-shadow(0px 1px 2px rgba(0, 0, 0, 0.3));\n",
              "      fill: #FFFFFF;\n",
              "    }\n",
              "  </style>\n",
              "\n",
              "      <script>\n",
              "        const buttonEl =\n",
              "          document.querySelector('#df-2edf32ba-5381-4caa-a734-d5bf22bc1467 button.colab-df-convert');\n",
              "        buttonEl.style.display =\n",
              "          google.colab.kernel.accessAllowed ? 'block' : 'none';\n",
              "\n",
              "        async function convertToInteractive(key) {\n",
              "          const element = document.querySelector('#df-2edf32ba-5381-4caa-a734-d5bf22bc1467');\n",
              "          const dataTable =\n",
              "            await google.colab.kernel.invokeFunction('convertToInteractive',\n",
              "                                                     [key], {});\n",
              "          if (!dataTable) return;\n",
              "\n",
              "          const docLinkHtml = 'Like what you see? Visit the ' +\n",
              "            '<a target=\"_blank\" href=https://colab.research.google.com/notebooks/data_table.ipynb>data table notebook</a>'\n",
              "            + ' to learn more about interactive tables.';\n",
              "          element.innerHTML = '';\n",
              "          dataTable['output_type'] = 'display_data';\n",
              "          await google.colab.output.renderOutput(dataTable, element);\n",
              "          const docLink = document.createElement('div');\n",
              "          docLink.innerHTML = docLinkHtml;\n",
              "          element.appendChild(docLink);\n",
              "        }\n",
              "      </script>\n",
              "    </div>\n",
              "  </div>\n",
              "  "
            ]
          },
          "metadata": {},
          "execution_count": 7
        }
      ]
    },
    {
      "cell_type": "code",
      "source": [
        "exposed_data = data[(data[\"experiment\"]==\"exposed\") & ((data[\"yes\"] == 1) | (data[\"no\"] == 1))]\n",
        "control_data = data[(data[\"experiment\"]==\"control\") & ((data[\"yes\"] == 1) | (data[\"no\"] == 1))]"
      ],
      "metadata": {
        "id": "CBMCRSvjhy-e"
      },
      "execution_count": 31,
      "outputs": []
    },
    {
      "cell_type": "code",
      "source": [
        "exposed_data[\"response\"] = (exposed_data[\"yes\"] == 1).astype(int)\n",
        "control_data[\"response\"] = (control_data[\"yes\"] == 1).astype(int)"
      ],
      "metadata": {
        "id": "b3rNutC3kjXn"
      },
      "execution_count": null,
      "outputs": []
    },
    {
      "cell_type": "code",
      "source": [
        "exposed_data.drop([\"yes\", \"no\"], axis=1, inplace=True)\n",
        "control_data.drop([\"yes\", \"no\"], axis=1, inplace=True)"
      ],
      "metadata": {
        "id": "HvZQpRV0laDL"
      },
      "execution_count": null,
      "outputs": []
    },
    {
      "cell_type": "code",
      "source": [
        "exposed_data['date+hour'] = exposed_data['hour'].map(lambda x:  pd.Timestamp(x,tz=None).strftime('%Y-%m-%d:%H'))\n",
        "control_data['date+hour'] = control_data['hour'].map(lambda x:  pd.Timestamp(x,tz=None).strftime('%Y-%m-%d:%H'))"
      ],
      "metadata": {
        "id": "WxPJxhsxiuAZ"
      },
      "execution_count": null,
      "outputs": []
    },
    {
      "cell_type": "code",
      "source": [
        "exposed_data['engagement'] = exposed_data['response'] + exposed_data['response']\n",
        "control_data['engagement'] = control_data['response'] + control_data['response']\n",
        "\n",
        "exposed_data['success'] = exposed_data['response'] \n",
        "control_data['success'] = control_data['response'] \n",
        "\n",
        "expo_p = sum(exposed_data['success']) / sum(exposed_data['engagement'])\n",
        "cont_p = sum(control_data['success']) / sum(control_data['engagement'])\n",
        "\n",
        "exposed_engagement = exposed_data['engagement'].to_numpy()\n",
        "control_engagement = control_data['engagement'].to_numpy()\n",
        "\n",
        "exposed_data_ds = np.random.choice([0, 1], size=((np.sum(exposed_engagement)),), p=[expo_p, 1-expo_p])\n",
        "control_data_ds = np.random.choice([0, 1], size=((np.sum(control_engagement)),), p=[cont_p , 1-cont_p ])"
      ],
      "metadata": {
        "id": "d-JdVk9YkIlX"
      },
      "execution_count": null,
      "outputs": []
    },
    {
      "cell_type": "code",
      "metadata": {
        "id": "GZRFd2kTalh3"
      },
      "source": [
        "def conditionalSPRT(x,y,t1,alpha=0.05,beta=0.10,stop=None):\n",
        "    \"\"\"\n",
        "    #\n",
        "    # Meeker's SPRT for matched `x` (treatment) and `y` (control), \n",
        "    # both indicator responses, likelihood ratio t1, error rates alpha and beta,\n",
        "    # and (optionally) truncation after trial stop.\n",
        "    #\n",
        "    # The return variable contains these elements:\n",
        "    #(outcome,n, k,l,u,truncated,truncate_decision,x1,r,stats,limits)\n",
        "    # * outcome:   \"continue,\" \"reject null,\" or \"accept null\".\n",
        "    # * n: number observation used for the decsion\n",
        "    # * k:     Index at which the outcome decision was made (or NA)\n",
        "    # * l:     lower critical point\n",
        "    # * u:     upper critical point\n",
        "    # * truncate_decision: The approximate decision made after truncate point\n",
        "    # * truncated: If the test was truncated, the value of `n.0`; NA otherwise\n",
        "    # * x1:       Original data `x`, cumulative\n",
        "    # * r:         Cumulative sum of x+y\n",
        "    # * stats:     Series of cumulative sums of log probability ratios\n",
        "    # * limits:    Two rows giving lower and upper critical limits, respectively\n",
        "    #\n",
        "    \"\"\"\n",
        "    \n",
        "    if t1<=1:\n",
        "        print('warning',\"Odd ratio should exceed 1.\")\n",
        "    if (alpha >0.5) | (beta >0.5):\n",
        "        print('warning',\"Unrealistic values of alpha or beta were passed.\"\n",
        "                 +\" You should have good reason to use large alpha & beta values\")\n",
        "    if stop!=None:\n",
        "        stop=math.floor(n0)\n",
        "\n",
        "    def comb(n, k):\n",
        "        return math.factorial(n) // math.factorial(k) // math.factorial(n - k)\n",
        "\n",
        "    def lchoose(b, j):\n",
        "        a=[]\n",
        "        if (type(j) is list) | (isinstance(j,np.ndarray)==True):\n",
        "            if len(j)<2:\n",
        "                j=j[0]\n",
        "        if (type(j) is list) | (isinstance(j,np.ndarray)==True):\n",
        "            for k in j:\n",
        "                n=b\n",
        "                if (0 <= k) & (k<= n):\n",
        "                    a.append(math.log(comb(n,k)))\n",
        "                else:\n",
        "                    a.append(0)\n",
        "        else:\n",
        "            n=b\n",
        "            k=j\n",
        "            if (0 <= k) & (k<= n):\n",
        "                a.append(math.log(comb(n,k)))\n",
        "            else:\n",
        "                a.append(0)\n",
        "\n",
        "        return np.array(a)\n",
        "\n",
        "    def g(x,r,n,t1,t0=1):\n",
        "        return -math.log(h(x,r,n,t1))+math.log(h(x,r,n,t0))\n",
        "\n",
        "    def h(x,r,n,t=1):\n",
        "     \n",
        "        return f(r,n,t,offset=ftermlog(x,r,n,t))\n",
        "\n",
        "    def f(r,n,t,offset=0):\n",
        "        upper=max(0,r-n)\n",
        "        lower=min(n,r)\n",
        "        rng=list(range(upper,lower+1))\n",
        "        return np.sum(fterm(rng,r,n,t,offset))\n",
        "\n",
        "    def fterm(j,r,n,t,offset=0):\n",
        "        ftlog=ftermlog(j,r,n,t,offset)\n",
        "        return np.array([math.exp(ex) for ex in ftlog])\n",
        "\n",
        "    def ftermlog(j,r,n,t,offset=0):\n",
        "    \n",
        "        xx=r-j\n",
        "        lch=lchoose(n,j)\n",
        "        lchdiff=lchoose(n,xx)\n",
        "        lg=np.array(j)*math.log(t)\n",
        "        lgsum=lch+lchdiff\n",
        "        lgsum2=lgsum+lg\n",
        "        lgdiff=lgsum2-offset\n",
        "\n",
        "        return lgdiff\n",
        "\n",
        "    def logf(r,n,t,offset=0):\n",
        "     \n",
        "        z=f(r,n,t,offset)\n",
        "        if z>0:\n",
        "            return math.log(z)\n",
        "        else:\n",
        "            return np.nan\n",
        "\n",
        "    def clowerUpper(r,n,t1c,t0=1,alpha=0.05,beta=0.10):\n",
        "     \n",
        "        offset=ftermlog(math.ceil(r/2),r,n,t1c)\n",
        "        z=logf(r,n,t1c,logf(r,n,t0,offset)+offset)\n",
        "        a=-math.log(alpha/(1-beta))\n",
        "        b=math.log(beta/(1-alpha))\n",
        "        lower=b\n",
        "        upper=1+a\n",
        "        return (np.array([lower,upper])+z)/math.log(t1c/t0)\n",
        "\n",
        "    l=math.log(beta/(1-alpha))\n",
        "    u=-math.log(alpha/(1-beta))\n",
        "    sample_size=min(len(x),len(y))\n",
        "    n=np.array(range(1,sample_size+1))\n",
        "\n",
        "    if stop!=None:\n",
        "        n=np.array([z for z in n if z<=stop])\n",
        "    x1=np.cumsum(x[n-1])\n",
        "    r=x1+np.cumsum(y[n-1])\n",
        "    stats=np.array(list(map(g,x1, r, n, [t1]*len(x1)))) #recurcively calls g\n",
        "     #\n",
        "      # Perform the test by finding the first index, if any, at which `stats`\n",
        "      # falls outside the open interval (l, u).\n",
        "      #\n",
        "    clu=list(map(clowerUpper,r,n,[t1]*len(r),[1]*len(r),[alpha]*len(r), [beta]*len(r)))\n",
        "    limits=[]\n",
        "    for v in clu:\n",
        "        inArray=[]\n",
        "        for vin in v:\n",
        "            inArray.append(math.floor(vin))\n",
        "        limits.append(np.array(inArray))\n",
        "    limits=np.array(limits)\n",
        "\n",
        "    k=np.where((stats>=u) | (stats<=l))\n",
        "    cvalues=stats[k]\n",
        "    if cvalues.shape[0]<1:\n",
        "        k= np.nan\n",
        "        outcome='Unable to conclude.Needs more sample.'\n",
        "    else:\n",
        "        k=np.min(k)\n",
        "        if stats[k]>=u:\n",
        "            outcome=f'Exposed group produced a statistically significant increase.'\n",
        "        else:\n",
        "            outcome='Their is no statistically significant difference between two test groups'\n",
        "    if (stop!=None) & (k==np.nan):\n",
        "      #\n",
        "      # Truncate at trial stop, using Meeker's H0-conservative formula (2.2).\n",
        "      # Leave k=NA to indicate the decision was made due to truncation.\n",
        "      #\n",
        "        c1=clowerUpper(r,stop,t1,alpha,beta)\n",
        "        c1=math.floor(np.mean(c1)-0.5)\n",
        "        if x1[n0]<=c1:\n",
        "            truncate_decision='h0'\n",
        "            outcome='Maximum Limit Decision. The aproximate decision point shows their is no statistically significant difference between two test groups'\n",
        "        else:\n",
        "            truncate_decision='h1'\n",
        "            outcome=f'Maximum Limit Decision. The aproximate decision point shows exposed group produced a statistically significant increase.'\n",
        "        truncated=stop\n",
        "    else:\n",
        "        truncate_decision='Non'\n",
        "        truncated=np.nan\n",
        "    return (outcome,n, k,l,u,truncated,truncate_decision,x1,r,stats,limits)"
      ],
      "execution_count": 48,
      "outputs": []
    },
    {
      "cell_type": "code",
      "source": [
        "#REFERENCE\n",
        "# A Conditional Sequential Test for the Equality of Two Binomial Proportions\n",
        "# William Q. Meeker, Jr\n",
        "# Journal of the Royal Statistical Society. Series C (Applied Statistics)\n",
        "# Vol. 30, No. 2 (1981), pp. 109-115\n",
        "class ConditionalSPRT:\n",
        "     \n",
        "    def __init__(self, x, y, odd_ratio, alpha=0.05, beta=0.10, stop=None):\n",
        "        self.x = x\n",
        "        self.y = y\n",
        "        self.odd_ratio = odd_ratio\n",
        "        self.alpha = alpha\n",
        "        self.beta = beta\n",
        "        self.stop = stop\n",
        "   \n",
        "    def run(self):\n",
        "        res = conditionalSPRT(self.x, self.y, self.odd_ratio,\n",
        "                              self.alpha, self.beta,\n",
        "                              self.stop)\n",
        "        return res\n",
        "    def resJson(self, res):\n",
        "        outcome,n, k,l,u,truncated,truncate_decision,x1,r,stats,limits = res\n",
        "        jsonRes = {\n",
        "            \"name\": \"Sequential AB testing\",\n",
        "            \"outcome\": outcome,\n",
        "            \"decsionMadeIndex\": k,\n",
        "            \"numberOfObservation\": len(n),\n",
        "            \"truncated\": truncated,\n",
        "            \"truncateDecision\": truncate_decision,        \n",
        "      \n",
        "        }\n",
        "        return jsonRes\n",
        "    \n",
        "    def plotExperiment(self, res):\n",
        "        outcome,n, k,l,u,truncated,truncate_decision,x1,r,stats,limits = res\n",
        "        lower = limits[:, 0]\n",
        "        upper = limits[:,1]\n",
        "\n",
        "        fig, ax = plt.subplots(figsize=(12,7))\n",
        "\n",
        "        ax.plot(n, x1, label='Cumlative value of yes+no')\n",
        "\n",
        "        ax.plot(n, lower, label='Lower Bound', linestyle='--')\n",
        "        ax.plot(n, upper, label='Upper Bound', linestyle='--')\n",
        "\n",
        "        plt.legend()\n",
        "\n",
        "\n",
        "        plt.show()"
      ],
      "metadata": {
        "id": "HiTE3KHi54Sp"
      },
      "execution_count": 53,
      "outputs": []
    },
    {
      "cell_type": "code",
      "metadata": {
        "id": "JIOGgResa5B-"
      },
      "source": [
        "odd_ratio = 1.01\n",
        "alpha = 0.05\n",
        "beta = 0.1"
      ],
      "execution_count": 50,
      "outputs": []
    },
    {
      "cell_type": "code",
      "source": [
        "cond_obj = ConditionalSPRT(exposed_data_ds,control_data_ds, odd_ratio, alpha, beta)"
      ],
      "metadata": {
        "id": "xo3ioW3LmJsy"
      },
      "execution_count": 54,
      "outputs": []
    },
    {
      "cell_type": "code",
      "source": [
        "response = cond_obj.run()"
      ],
      "metadata": {
        "id": "G_VwatzAmkiM"
      },
      "execution_count": 55,
      "outputs": []
    },
    {
      "cell_type": "code",
      "source": [
        "cond_obj.plotExperiment(response)"
      ],
      "metadata": {
        "colab": {
          "base_uri": "https://localhost:8080/",
          "height": 428
        },
        "id": "w5oqbj0wms8q",
        "outputId": "96e68fc1-bb41-45d1-f69c-4418a5afa814"
      },
      "execution_count": 56,
      "outputs": [
        {
          "output_type": "display_data",
          "data": {
            "text/plain": [
              "<Figure size 864x504 with 1 Axes>"
            ],
            "image/png": "[encoded data removed]"
          },
          "metadata": {
            "needs_background": "light"
          }
        }
      ]
    }
  ]
}