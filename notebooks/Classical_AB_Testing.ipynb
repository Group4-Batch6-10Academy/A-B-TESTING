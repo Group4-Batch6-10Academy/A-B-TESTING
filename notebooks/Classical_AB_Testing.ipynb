{
 "cells": [
  {
   "cell_type": "code",
   "execution_count": 3,
   "id": "fae88027",
   "metadata": {},
   "outputs": [],
   "source": [
    "import numpy as np\n",
    "import pandas as pd\n",
    "import matplotlib.pyplot as plt\n",
    "import seaborn as sns\n",
    "import sys\n",
    "import scipy.stats as scs\n",
    "sys.path.insert(0,'../scripts/')\n",
    "from statsmodels.stats.proportion import proportions_ztest\n",
    "import scipy.stats"
   ]
  },
  {
   "cell_type": "code",
   "execution_count": 4,
   "id": "58a7ac40",
   "metadata": {},
   "outputs": [],
   "source": [
    "from ABTestingFunctions import ABTesting"
   ]
  },
  {
   "cell_type": "code",
   "execution_count": 5,
   "id": "12c46b6e",
   "metadata": {},
   "outputs": [],
   "source": [
    "df = pd.read_csv('../data/AdSmartABdata.csv')"
   ]
  },
  {
   "cell_type": "code",
   "execution_count": 6,
   "id": "cd681acd",
   "metadata": {},
   "outputs": [
    {
     "data": {
      "text/html": [
       "<div>\n",
       "<style scoped>\n",
       "    .dataframe tbody tr th:only-of-type {\n",
       "        vertical-align: middle;\n",
       "    }\n",
       "\n",
       "    .dataframe tbody tr th {\n",
       "        vertical-align: top;\n",
       "    }\n",
       "\n",
       "    .dataframe thead th {\n",
       "        text-align: right;\n",
       "    }\n",
       "</style>\n",
       "<table border=\"1\" class=\"dataframe\">\n",
       "  <thead>\n",
       "    <tr style=\"text-align: right;\">\n",
       "      <th></th>\n",
       "      <th>auction_id</th>\n",
       "      <th>experiment</th>\n",
       "      <th>date</th>\n",
       "      <th>hour</th>\n",
       "      <th>device_make</th>\n",
       "      <th>platform_os</th>\n",
       "      <th>browser</th>\n",
       "      <th>yes</th>\n",
       "      <th>no</th>\n",
       "    </tr>\n",
       "  </thead>\n",
       "  <tbody>\n",
       "    <tr>\n",
       "      <th>0</th>\n",
       "      <td>0008ef63-77a7-448b-bd1e-075f42c55e39</td>\n",
       "      <td>exposed</td>\n",
       "      <td>2020-07-10</td>\n",
       "      <td>8</td>\n",
       "      <td>Generic Smartphone</td>\n",
       "      <td>6</td>\n",
       "      <td>Chrome Mobile</td>\n",
       "      <td>0</td>\n",
       "      <td>0</td>\n",
       "    </tr>\n",
       "    <tr>\n",
       "      <th>1</th>\n",
       "      <td>000eabc5-17ce-4137-8efe-44734d914446</td>\n",
       "      <td>exposed</td>\n",
       "      <td>2020-07-07</td>\n",
       "      <td>10</td>\n",
       "      <td>Generic Smartphone</td>\n",
       "      <td>6</td>\n",
       "      <td>Chrome Mobile</td>\n",
       "      <td>0</td>\n",
       "      <td>0</td>\n",
       "    </tr>\n",
       "    <tr>\n",
       "      <th>2</th>\n",
       "      <td>0016d14a-ae18-4a02-a204-6ba53b52f2ed</td>\n",
       "      <td>exposed</td>\n",
       "      <td>2020-07-05</td>\n",
       "      <td>2</td>\n",
       "      <td>E5823</td>\n",
       "      <td>6</td>\n",
       "      <td>Chrome Mobile WebView</td>\n",
       "      <td>0</td>\n",
       "      <td>1</td>\n",
       "    </tr>\n",
       "    <tr>\n",
       "      <th>3</th>\n",
       "      <td>00187412-2932-4542-a8ef-3633901c98d9</td>\n",
       "      <td>control</td>\n",
       "      <td>2020-07-03</td>\n",
       "      <td>15</td>\n",
       "      <td>Samsung SM-A705FN</td>\n",
       "      <td>6</td>\n",
       "      <td>Facebook</td>\n",
       "      <td>0</td>\n",
       "      <td>0</td>\n",
       "    </tr>\n",
       "    <tr>\n",
       "      <th>4</th>\n",
       "      <td>001a7785-d3fe-4e11-a344-c8735acacc2c</td>\n",
       "      <td>control</td>\n",
       "      <td>2020-07-03</td>\n",
       "      <td>15</td>\n",
       "      <td>Generic Smartphone</td>\n",
       "      <td>6</td>\n",
       "      <td>Chrome Mobile</td>\n",
       "      <td>0</td>\n",
       "      <td>0</td>\n",
       "    </tr>\n",
       "  </tbody>\n",
       "</table>\n",
       "</div>"
      ],
      "text/plain": [
       "                             auction_id experiment        date  hour  \\\n",
       "0  0008ef63-77a7-448b-bd1e-075f42c55e39    exposed  2020-07-10     8   \n",
       "1  000eabc5-17ce-4137-8efe-44734d914446    exposed  2020-07-07    10   \n",
       "2  0016d14a-ae18-4a02-a204-6ba53b52f2ed    exposed  2020-07-05     2   \n",
       "3  00187412-2932-4542-a8ef-3633901c98d9    control  2020-07-03    15   \n",
       "4  001a7785-d3fe-4e11-a344-c8735acacc2c    control  2020-07-03    15   \n",
       "\n",
       "          device_make  platform_os                browser  yes  no  \n",
       "0  Generic Smartphone            6          Chrome Mobile    0   0  \n",
       "1  Generic Smartphone            6          Chrome Mobile    0   0  \n",
       "2               E5823            6  Chrome Mobile WebView    0   1  \n",
       "3   Samsung SM-A705FN            6               Facebook    0   0  \n",
       "4  Generic Smartphone            6          Chrome Mobile    0   0  "
      ]
     },
     "execution_count": 6,
     "metadata": {},
     "output_type": "execute_result"
    }
   ],
   "source": [
    "df.head()"
   ]
  },
  {
   "cell_type": "code",
   "execution_count": 7,
   "id": "f1d5f29b",
   "metadata": {},
   "outputs": [
    {
     "data": {
      "text/html": [
       "<div>\n",
       "<style scoped>\n",
       "    .dataframe tbody tr th:only-of-type {\n",
       "        vertical-align: middle;\n",
       "    }\n",
       "\n",
       "    .dataframe tbody tr th {\n",
       "        vertical-align: top;\n",
       "    }\n",
       "\n",
       "    .dataframe thead th {\n",
       "        text-align: right;\n",
       "    }\n",
       "</style>\n",
       "<table border=\"1\" class=\"dataframe\">\n",
       "  <thead>\n",
       "    <tr style=\"text-align: right;\">\n",
       "      <th></th>\n",
       "      <th>hour</th>\n",
       "      <th>platform_os</th>\n",
       "      <th>yes</th>\n",
       "      <th>no</th>\n",
       "    </tr>\n",
       "  </thead>\n",
       "  <tbody>\n",
       "    <tr>\n",
       "      <th>count</th>\n",
       "      <td>8077.000000</td>\n",
       "      <td>8077.000000</td>\n",
       "      <td>8077.000000</td>\n",
       "      <td>8077.000000</td>\n",
       "    </tr>\n",
       "    <tr>\n",
       "      <th>mean</th>\n",
       "      <td>11.615080</td>\n",
       "      <td>5.947134</td>\n",
       "      <td>0.070818</td>\n",
       "      <td>0.083075</td>\n",
       "    </tr>\n",
       "    <tr>\n",
       "      <th>std</th>\n",
       "      <td>5.734879</td>\n",
       "      <td>0.224333</td>\n",
       "      <td>0.256537</td>\n",
       "      <td>0.276013</td>\n",
       "    </tr>\n",
       "    <tr>\n",
       "      <th>min</th>\n",
       "      <td>0.000000</td>\n",
       "      <td>5.000000</td>\n",
       "      <td>0.000000</td>\n",
       "      <td>0.000000</td>\n",
       "    </tr>\n",
       "    <tr>\n",
       "      <th>25%</th>\n",
       "      <td>7.000000</td>\n",
       "      <td>6.000000</td>\n",
       "      <td>0.000000</td>\n",
       "      <td>0.000000</td>\n",
       "    </tr>\n",
       "    <tr>\n",
       "      <th>50%</th>\n",
       "      <td>13.000000</td>\n",
       "      <td>6.000000</td>\n",
       "      <td>0.000000</td>\n",
       "      <td>0.000000</td>\n",
       "    </tr>\n",
       "    <tr>\n",
       "      <th>75%</th>\n",
       "      <td>15.000000</td>\n",
       "      <td>6.000000</td>\n",
       "      <td>0.000000</td>\n",
       "      <td>0.000000</td>\n",
       "    </tr>\n",
       "    <tr>\n",
       "      <th>max</th>\n",
       "      <td>23.000000</td>\n",
       "      <td>7.000000</td>\n",
       "      <td>1.000000</td>\n",
       "      <td>1.000000</td>\n",
       "    </tr>\n",
       "  </tbody>\n",
       "</table>\n",
       "</div>"
      ],
      "text/plain": [
       "              hour  platform_os          yes           no\n",
       "count  8077.000000  8077.000000  8077.000000  8077.000000\n",
       "mean     11.615080     5.947134     0.070818     0.083075\n",
       "std       5.734879     0.224333     0.256537     0.276013\n",
       "min       0.000000     5.000000     0.000000     0.000000\n",
       "25%       7.000000     6.000000     0.000000     0.000000\n",
       "50%      13.000000     6.000000     0.000000     0.000000\n",
       "75%      15.000000     6.000000     0.000000     0.000000\n",
       "max      23.000000     7.000000     1.000000     1.000000"
      ]
     },
     "execution_count": 7,
     "metadata": {},
     "output_type": "execute_result"
    }
   ],
   "source": [
    "df.describe()"
   ]
  },
  {
   "cell_type": "code",
   "execution_count": 8,
   "id": "79cf2c83",
   "metadata": {},
   "outputs": [
    {
     "data": {
      "text/plain": [
       "<AxesSubplot:>"
      ]
     },
     "execution_count": 8,
     "metadata": {},
     "output_type": "execute_result"
    },
    {
     "data": {
      "image/png": "[encoded data removed]",
      "text/plain": [
       "<Figure size 432x288 with 1 Axes>"
      ]
     },
     "metadata": {
      "needs_background": "light"
     },
     "output_type": "display_data"
    }
   ],
   "source": [
    "df.boxplot()"
   ]
  },
  {
   "cell_type": "code",
   "execution_count": 9,
   "id": "b737aaaf",
   "metadata": {},
   "outputs": [],
   "source": [
    "df_responded = df.query('yes==1 or no==1')"
   ]
  },
  {
   "cell_type": "code",
   "execution_count": 10,
   "id": "3553171b",
   "metadata": {},
   "outputs": [],
   "source": [
    "df_unresponded = df.query('yes==0 and no==0')"
   ]
  },
  {
   "cell_type": "code",
   "execution_count": 11,
   "id": "192a9438",
   "metadata": {},
   "outputs": [
    {
     "data": {
      "text/plain": [
       "((1243, 9), (6834, 9), (8077, 9))"
      ]
     },
     "execution_count": 11,
     "metadata": {},
     "output_type": "execute_result"
    }
   ],
   "source": [
    "df_responded.shape, df_unresponded.shape,df.shape"
   ]
  },
  {
   "cell_type": "code",
   "execution_count": 12,
   "id": "3de04ad3",
   "metadata": {},
   "outputs": [
    {
     "data": {
      "text/plain": [
       "<matplotlib.legend.Legend at 0x20d8e9300a0>"
      ]
     },
     "execution_count": 12,
     "metadata": {},
     "output_type": "execute_result"
    },
    {
     "data": {
      "image/png": "[encoded data removed]",
      "text/plain": [
       "<Figure size 648x504 with 1 Axes>"
      ]
     },
     "metadata": {
      "needs_background": "light"
     },
     "output_type": "display_data"
    }
   ],
   "source": [
    "plt.figure(figsize=(9,7))\n",
    "ax=sns.countplot(x ='experiment', hue='yes', data = df_responded) \n",
    "\n",
    "ax.set_xlabel('Experiment', fontsize=15)\n",
    "ax.set_ylabel('Count' , fontsize=15)\n",
    "ax.set_title('User Awareness per group', fontsize=15, fontweight='bold')\n",
    "plt.legend( ['No', 'Yes'])\n",
    "\n"
   ]
  },
  {
   "cell_type": "code",
   "execution_count": 13,
   "id": "ec11f424",
   "metadata": {},
   "outputs": [
    {
     "data": {
      "image/png": "[encoded data removed]",
      "text/plain": [
       "<Figure size 432x288 with 1 Axes>"
      ]
     },
     "metadata": {
      "needs_background": "light"
     },
     "output_type": "display_data"
    }
   ],
   "source": [
    "# class v / s fare barplot\n",
    "sns.countplot(x ='platform_os', data = df_unresponded,\n",
    "              color=\"salmon\",\n",
    "              saturation = 0.1)\n",
    "# Show the plot\n",
    "plt.title('Platform type for unresponsive users')\n",
    "plt.show()"
   ]
  },
  {
   "cell_type": "code",
   "execution_count": 14,
   "id": "9e4c9f78",
   "metadata": {},
   "outputs": [
    {
     "data": {
      "image/png": "[encoded data removed]",
      "text/plain": [
       "<Figure size 432x288 with 1 Axes>"
      ]
     },
     "metadata": {
      "needs_background": "light"
     },
     "output_type": "display_data"
    }
   ],
   "source": [
    "# class v / s fare barplot\n",
    "sns.countplot(x ='platform_os', data = df_responded,\n",
    "              color=\"salmon\",\n",
    "              hue = 'yes',\n",
    "              saturation = 0.1)\n",
    "plt.title('Platform type from responded users')\n",
    "# Show the plot\n",
    "plt.show()"
   ]
  },
  {
   "cell_type": "markdown",
   "id": "0f73907a",
   "metadata": {},
   "source": [
    "# Hypothesis Testing"
   ]
  },
  {
   "cell_type": "markdown",
   "id": "b931796b",
   "metadata": {},
   "source": [
    "- Null Hypothesis(H_o): There is no difference in brand awareness between the exposed and control groups.\n",
    "- Alternative Hypothesis(H_a): There is a significance difference in brand awareness between the exposed and control groups."
   ]
  },
  {
   "cell_type": "markdown",
   "id": "220f1605",
   "metadata": {},
   "source": [
    "\n",
    "${AwarenessResult} = \\tfrac{\\text{Number of Yes}}{\\text{Total number of events}}$"
   ]
  },
  {
   "cell_type": "markdown",
   "id": "d4df4a40",
   "metadata": {},
   "source": [
    "$H$<sub>o</sub> : $ControlAwarenessResult= ExposedGroupAwarenessResult$\n",
    "<br/>\n",
    "$H$<sub>a</sub> : $ControlAwarenessResult \\neq ExposedGroupAwarenessResult$\n",
    "<br/>\n",
    "<br/>\n",
    "Significance Level:  $\\alpha=0.05$\n",
    "<br/>\n",
    "Significance Power:  $\\beta = 0.2$\n",
    "<br>\n",
    "\n",
    "$BCR = $\n",
    "<br/>\n",
    "$MDE= $\n",
    "<br/>"
   ]
  },
  {
   "cell_type": "code",
   "execution_count": 15,
   "id": "0c014a89",
   "metadata": {},
   "outputs": [],
   "source": [
    "df_control =df_responded[df_responded['experiment']=='control']\n",
    "df_exposed =df_responded[df_responded['experiment']=='exposed']"
   ]
  },
  {
   "cell_type": "code",
   "execution_count": 16,
   "id": "dcc73e8f",
   "metadata": {},
   "outputs": [
    {
     "data": {
      "text/plain": [
       "((586, 9), (657, 9))"
      ]
     },
     "execution_count": 16,
     "metadata": {},
     "output_type": "execute_result"
    }
   ],
   "source": [
    "df_control.shape, df_exposed.shape"
   ]
  },
  {
   "cell_type": "code",
   "execution_count": 17,
   "id": "bab32bc3",
   "metadata": {},
   "outputs": [],
   "source": [
    "# aggregate results per day \n",
    "df_exp_agg = (df_exposed.groupby('date').agg(yes=('yes','sum'),no=('no','sum')).reset_index())"
   ]
  },
  {
   "cell_type": "code",
   "execution_count": 18,
   "id": "4a3588eb",
   "metadata": {},
   "outputs": [
    {
     "data": {
      "text/html": [
       "<div>\n",
       "<style scoped>\n",
       "    .dataframe tbody tr th:only-of-type {\n",
       "        vertical-align: middle;\n",
       "    }\n",
       "\n",
       "    .dataframe tbody tr th {\n",
       "        vertical-align: top;\n",
       "    }\n",
       "\n",
       "    .dataframe thead th {\n",
       "        text-align: right;\n",
       "    }\n",
       "</style>\n",
       "<table border=\"1\" class=\"dataframe\">\n",
       "  <thead>\n",
       "    <tr style=\"text-align: right;\">\n",
       "      <th></th>\n",
       "      <th>date</th>\n",
       "      <th>yes</th>\n",
       "      <th>no</th>\n",
       "    </tr>\n",
       "  </thead>\n",
       "  <tbody>\n",
       "    <tr>\n",
       "      <th>0</th>\n",
       "      <td>2020-07-03</td>\n",
       "      <td>43</td>\n",
       "      <td>49</td>\n",
       "    </tr>\n",
       "    <tr>\n",
       "      <th>1</th>\n",
       "      <td>2020-07-04</td>\n",
       "      <td>46</td>\n",
       "      <td>45</td>\n",
       "    </tr>\n",
       "    <tr>\n",
       "      <th>2</th>\n",
       "      <td>2020-07-05</td>\n",
       "      <td>35</td>\n",
       "      <td>39</td>\n",
       "    </tr>\n",
       "    <tr>\n",
       "      <th>3</th>\n",
       "      <td>2020-07-06</td>\n",
       "      <td>23</td>\n",
       "      <td>25</td>\n",
       "    </tr>\n",
       "    <tr>\n",
       "      <th>4</th>\n",
       "      <td>2020-07-07</td>\n",
       "      <td>22</td>\n",
       "      <td>24</td>\n",
       "    </tr>\n",
       "    <tr>\n",
       "      <th>5</th>\n",
       "      <td>2020-07-08</td>\n",
       "      <td>58</td>\n",
       "      <td>61</td>\n",
       "    </tr>\n",
       "    <tr>\n",
       "      <th>6</th>\n",
       "      <td>2020-07-09</td>\n",
       "      <td>55</td>\n",
       "      <td>64</td>\n",
       "    </tr>\n",
       "    <tr>\n",
       "      <th>7</th>\n",
       "      <td>2020-07-10</td>\n",
       "      <td>26</td>\n",
       "      <td>42</td>\n",
       "    </tr>\n",
       "  </tbody>\n",
       "</table>\n",
       "</div>"
      ],
      "text/plain": [
       "         date  yes  no\n",
       "0  2020-07-03   43  49\n",
       "1  2020-07-04   46  45\n",
       "2  2020-07-05   35  39\n",
       "3  2020-07-06   23  25\n",
       "4  2020-07-07   22  24\n",
       "5  2020-07-08   58  61\n",
       "6  2020-07-09   55  64\n",
       "7  2020-07-10   26  42"
      ]
     },
     "execution_count": 18,
     "metadata": {},
     "output_type": "execute_result"
    }
   ],
   "source": [
    "df_exp_agg"
   ]
  },
  {
   "cell_type": "code",
   "execution_count": 19,
   "id": "0deec4cb",
   "metadata": {},
   "outputs": [],
   "source": [
    "df_ctrl_agg = (df_control.groupby('date').agg(yes=('yes','sum'),no=('no','sum')).reset_index())"
   ]
  },
  {
   "cell_type": "code",
   "execution_count": 20,
   "id": "eb98e0ad",
   "metadata": {},
   "outputs": [
    {
     "data": {
      "text/html": [
       "<div>\n",
       "<style scoped>\n",
       "    .dataframe tbody tr th:only-of-type {\n",
       "        vertical-align: middle;\n",
       "    }\n",
       "\n",
       "    .dataframe tbody tr th {\n",
       "        vertical-align: top;\n",
       "    }\n",
       "\n",
       "    .dataframe thead th {\n",
       "        text-align: right;\n",
       "    }\n",
       "</style>\n",
       "<table border=\"1\" class=\"dataframe\">\n",
       "  <thead>\n",
       "    <tr style=\"text-align: right;\">\n",
       "      <th></th>\n",
       "      <th>date</th>\n",
       "      <th>yes</th>\n",
       "      <th>no</th>\n",
       "    </tr>\n",
       "  </thead>\n",
       "  <tbody>\n",
       "    <tr>\n",
       "      <th>0</th>\n",
       "      <td>2020-07-03</td>\n",
       "      <td>104</td>\n",
       "      <td>129</td>\n",
       "    </tr>\n",
       "    <tr>\n",
       "      <th>1</th>\n",
       "      <td>2020-07-04</td>\n",
       "      <td>30</td>\n",
       "      <td>38</td>\n",
       "    </tr>\n",
       "    <tr>\n",
       "      <th>2</th>\n",
       "      <td>2020-07-05</td>\n",
       "      <td>17</td>\n",
       "      <td>26</td>\n",
       "    </tr>\n",
       "    <tr>\n",
       "      <th>3</th>\n",
       "      <td>2020-07-06</td>\n",
       "      <td>12</td>\n",
       "      <td>14</td>\n",
       "    </tr>\n",
       "    <tr>\n",
       "      <th>4</th>\n",
       "      <td>2020-07-07</td>\n",
       "      <td>16</td>\n",
       "      <td>21</td>\n",
       "    </tr>\n",
       "    <tr>\n",
       "      <th>5</th>\n",
       "      <td>2020-07-08</td>\n",
       "      <td>27</td>\n",
       "      <td>31</td>\n",
       "    </tr>\n",
       "    <tr>\n",
       "      <th>6</th>\n",
       "      <td>2020-07-09</td>\n",
       "      <td>30</td>\n",
       "      <td>35</td>\n",
       "    </tr>\n",
       "    <tr>\n",
       "      <th>7</th>\n",
       "      <td>2020-07-10</td>\n",
       "      <td>28</td>\n",
       "      <td>28</td>\n",
       "    </tr>\n",
       "  </tbody>\n",
       "</table>\n",
       "</div>"
      ],
      "text/plain": [
       "         date  yes   no\n",
       "0  2020-07-03  104  129\n",
       "1  2020-07-04   30   38\n",
       "2  2020-07-05   17   26\n",
       "3  2020-07-06   12   14\n",
       "4  2020-07-07   16   21\n",
       "5  2020-07-08   27   31\n",
       "6  2020-07-09   30   35\n",
       "7  2020-07-10   28   28"
      ]
     },
     "execution_count": 20,
     "metadata": {},
     "output_type": "execute_result"
    }
   ],
   "source": [
    "df_ctrl_agg"
   ]
  },
  {
   "cell_type": "code",
   "execution_count": 21,
   "id": "324a9aa4",
   "metadata": {},
   "outputs": [],
   "source": [
    "exposed = df_exp_agg[['yes','no']]\n",
    "control = df_ctrl_agg[['yes','no']]"
   ]
  },
  {
   "cell_type": "code",
   "execution_count": 22,
   "id": "c4dd52ed",
   "metadata": {},
   "outputs": [],
   "source": [
    "control['awareness'] = control['yes']/(control['yes']+control['no'])\n",
    "exposed['awareness'] = exposed['yes']/(exposed['yes']+exposed['no'])"
   ]
  },
  {
   "cell_type": "code",
   "execution_count": 23,
   "id": "6c8cf454",
   "metadata": {},
   "outputs": [
    {
     "data": {
      "text/html": [
       "<div>\n",
       "<style scoped>\n",
       "    .dataframe tbody tr th:only-of-type {\n",
       "        vertical-align: middle;\n",
       "    }\n",
       "\n",
       "    .dataframe tbody tr th {\n",
       "        vertical-align: top;\n",
       "    }\n",
       "\n",
       "    .dataframe thead th {\n",
       "        text-align: right;\n",
       "    }\n",
       "</style>\n",
       "<table border=\"1\" class=\"dataframe\">\n",
       "  <thead>\n",
       "    <tr style=\"text-align: right;\">\n",
       "      <th></th>\n",
       "      <th>yes</th>\n",
       "      <th>no</th>\n",
       "      <th>awareness</th>\n",
       "    </tr>\n",
       "  </thead>\n",
       "  <tbody>\n",
       "    <tr>\n",
       "      <th>0</th>\n",
       "      <td>43</td>\n",
       "      <td>49</td>\n",
       "      <td>0.467391</td>\n",
       "    </tr>\n",
       "    <tr>\n",
       "      <th>1</th>\n",
       "      <td>46</td>\n",
       "      <td>45</td>\n",
       "      <td>0.505495</td>\n",
       "    </tr>\n",
       "    <tr>\n",
       "      <th>2</th>\n",
       "      <td>35</td>\n",
       "      <td>39</td>\n",
       "      <td>0.472973</td>\n",
       "    </tr>\n",
       "    <tr>\n",
       "      <th>3</th>\n",
       "      <td>23</td>\n",
       "      <td>25</td>\n",
       "      <td>0.479167</td>\n",
       "    </tr>\n",
       "    <tr>\n",
       "      <th>4</th>\n",
       "      <td>22</td>\n",
       "      <td>24</td>\n",
       "      <td>0.478261</td>\n",
       "    </tr>\n",
       "  </tbody>\n",
       "</table>\n",
       "</div>"
      ],
      "text/plain": [
       "   yes  no  awareness\n",
       "0   43  49   0.467391\n",
       "1   46  45   0.505495\n",
       "2   35  39   0.472973\n",
       "3   23  25   0.479167\n",
       "4   22  24   0.478261"
      ]
     },
     "execution_count": 23,
     "metadata": {},
     "output_type": "execute_result"
    }
   ],
   "source": [
    "exposed.head()"
   ]
  },
  {
   "cell_type": "code",
   "execution_count": 24,
   "id": "9c462e2b",
   "metadata": {},
   "outputs": [
    {
     "data": {
      "text/plain": [
       "<AxesSubplot:title={'center':'Distribution of yes and no in Exposed group in each consecutive day'}>"
      ]
     },
     "execution_count": 24,
     "metadata": {},
     "output_type": "execute_result"
    },
    {
     "data": {
      "image/png": "[encoded data removed]",
      "text/plain": [
       "<Figure size 432x288 with 1 Axes>"
      ]
     },
     "metadata": {
      "needs_background": "light"
     },
     "output_type": "display_data"
    }
   ],
   "source": [
    "exposed[['yes','no']].plot(kind='bar',title='Distribution of yes and no in Exposed group in each consecutive day')"
   ]
  },
  {
   "cell_type": "code",
   "execution_count": 25,
   "id": "10e1f7f0",
   "metadata": {},
   "outputs": [
    {
     "data": {
      "text/plain": [
       "<AxesSubplot:title={'center':'Distribution of yes and no in Control group in each day'}>"
      ]
     },
     "execution_count": 25,
     "metadata": {},
     "output_type": "execute_result"
    },
    {
     "data": {
      "image/png": "[encoded data removed]",
      "text/plain": [
       "<Figure size 432x288 with 1 Axes>"
      ]
     },
     "metadata": {
      "needs_background": "light"
     },
     "output_type": "display_data"
    }
   ],
   "source": [
    "control[['yes','no']].plot(kind='bar',title='Distribution of yes and no in Control group in each day')"
   ]
  },
  {
   "cell_type": "code",
   "execution_count": 26,
   "id": "c11f7307",
   "metadata": {},
   "outputs": [
    {
     "data": {
      "image/png": "[encoded data removed]",
      "text/plain": [
       "<Figure size 1008x504 with 1 Axes>"
      ]
     },
     "metadata": {
      "needs_background": "light"
     },
     "output_type": "display_data"
    }
   ],
   "source": [
    "sns.displot(data=exposed, x='awareness', color='green',\n",
    "                    kde=True, height=7, aspect=2)\n",
    "plt.title(f'Distribution of Awareness in exposed class', size=20, fontweight='bold')\n",
    "plt.show()"
   ]
  },
  {
   "cell_type": "code",
   "execution_count": 27,
   "id": "44c19011",
   "metadata": {},
   "outputs": [
    {
     "data": {
      "image/png": "[encoded data removed]",
      "text/plain": [
       "<Figure size 1008x504 with 1 Axes>"
      ]
     },
     "metadata": {
      "needs_background": "light"
     },
     "output_type": "display_data"
    }
   ],
   "source": [
    "sns.displot(data=control, x='awareness', color='yellow',kde=True, height=7, aspect=2)\n",
    "plt.title(f'Distribution of Awareness in control class', size=20, fontweight='bold')\n",
    "plt.show()"
   ]
  },
  {
   "cell_type": "markdown",
   "id": "638682e7",
   "metadata": {},
   "source": [
    "## Distribution plot of the data\n",
    "- This shows the data is normally distributed"
   ]
  },
  {
   "cell_type": "code",
   "execution_count": 28,
   "id": "58217fb6",
   "metadata": {},
   "outputs": [
    {
     "ename": "NameError",
     "evalue": "name 'cont_aware' is not defined",
     "output_type": "error",
     "traceback": [
      "\u001b[1;31m---------------------------------------------------------------------------\u001b[0m",
      "\u001b[1;31mNameError\u001b[0m                                 Traceback (most recent call last)",
      "\u001b[1;32m<ipython-input-28-c781c81be9d9>\u001b[0m in \u001b[0;36m<module>\u001b[1;34m\u001b[0m\n\u001b[0;32m      4\u001b[0m \u001b[0mexp_aware\u001b[0m \u001b[1;33m=\u001b[0m \u001b[0mexposed\u001b[0m\u001b[1;33m[\u001b[0m\u001b[1;34m'yes'\u001b[0m\u001b[1;33m]\u001b[0m\u001b[1;33m.\u001b[0m\u001b[0msum\u001b[0m\u001b[1;33m(\u001b[0m\u001b[1;33m)\u001b[0m\u001b[1;33m\u001b[0m\u001b[1;33m\u001b[0m\u001b[0m\n\u001b[0;32m      5\u001b[0m \u001b[0mexp_rate\u001b[0m \u001b[1;33m=\u001b[0m \u001b[0mexp_aware\u001b[0m\u001b[1;33m/\u001b[0m\u001b[0mexp_total\u001b[0m\u001b[1;33m\u001b[0m\u001b[1;33m\u001b[0m\u001b[0m\n\u001b[1;32m----> 6\u001b[1;33m \u001b[0mcont_rate\u001b[0m \u001b[1;33m=\u001b[0m \u001b[0mcont_aware\u001b[0m\u001b[1;33m/\u001b[0m\u001b[0mcont_total\u001b[0m\u001b[1;33m\u001b[0m\u001b[1;33m\u001b[0m\u001b[0m\n\u001b[0m\u001b[0;32m      7\u001b[0m \u001b[1;33m\u001b[0m\u001b[0m\n\u001b[0;32m      8\u001b[0m \u001b[0mfig\u001b[0m\u001b[1;33m,\u001b[0m \u001b[0max\u001b[0m \u001b[1;33m=\u001b[0m \u001b[0mplt\u001b[0m\u001b[1;33m.\u001b[0m\u001b[0msubplots\u001b[0m\u001b[1;33m(\u001b[0m\u001b[0mfigsize\u001b[0m\u001b[1;33m=\u001b[0m\u001b[1;33m(\u001b[0m\u001b[1;36m12\u001b[0m\u001b[1;33m,\u001b[0m \u001b[1;36m6\u001b[0m\u001b[1;33m)\u001b[0m\u001b[1;33m)\u001b[0m\u001b[1;33m\u001b[0m\u001b[1;33m\u001b[0m\u001b[0m\n",
      "\u001b[1;31mNameError\u001b[0m: name 'cont_aware' is not defined"
     ]
    }
   ],
   "source": [
    "\n",
    "exp_total = (exposed['yes'].sum()+exposed['no'].sum())\n",
    "cont_total = (control['yes'].sum()+control['no'].sum())\n",
    "C_aware = control['yes'].sum()\n",
    "E_aware = exposed['yes'].sum()\n",
    "exp_rate = E_aware/exp_total\n",
    "cont_rate = C_aware/cont_total\n",
    "\n",
    "fig, ax = plt.subplots(figsize=(12, 6))\n",
    "xC = np.linspace(C_aware - 49, C_aware + 50, 100)\n",
    "yC = scs.binom(cont_total, cont_rate).pmf(xC)\n",
    "ax.bar(xC, yC, alpha=0.5, linestyle='--')\n",
    "xE = np.linspace(E_aware - 49, E_aware + 50, 100)\n",
    "yE = scs.binom(exp_total , exp_rate).pmf(xE)\n",
    "ax.bar(xE, yE, alpha=0.5, linestyle='--')\n",
    "plt.xlabel('awareness')\n",
    "plt.ylabel('probability')\n",
    "plt.show()"
   ]
  },
  {
   "cell_type": "markdown",
   "id": "aeb2ddc8",
   "metadata": {},
   "source": [
    "## Test the Hypothesis\n"
   ]
  },
  {
   "cell_type": "code",
   "execution_count": null,
   "id": "d1f8223c",
   "metadata": {},
   "outputs": [],
   "source": [
    "def compute_pvalues(group1, group2):\n",
    "    n1 = (group1['no'].sum() + group1['yes'].sum())\n",
    "    p1 = group1['yes'].sum() / float(n1)\n",
    "    # \n",
    "    n2 = (group2['no'].sum() + group2['yes'].sum())\n",
    "    p2 = group2['yes'].sum()  / float(n2)\n",
    "    # \n",
    "    d= p2 - p1\n",
    "    return (p1, p2, d)"
   ]
  },
  {
   "cell_type": "code",
   "execution_count": null,
   "id": "664bc9a8",
   "metadata": {},
   "outputs": [],
   "source": [
    "p1,p2,d = compute_pvalues(group1=control, group2=exposed)"
   ]
  },
  {
   "cell_type": "code",
   "execution_count": null,
   "id": "ea3d742f",
   "metadata": {},
   "outputs": [],
   "source": [
    "# Standard Deviation Error \n",
    "def compute_sd_errors(group1, group2):\n",
    "    n1 = (group1['no'].sum() + group1['yes'].sum())\n",
    "    n2 = (group2['no'].sum() + group2['yes'].sum()) \n",
    "    p_overall = (group1['yes'].sum() + group2['yes'].sum() )/ (n1+n2)\n",
    "    se1 = (p_overall * (1 - p_overall))/n1 \n",
    "    se2 = (p_overall * (1- p_overall))/n2 \n",
    "    standardError = np.sqrt(float(se1) + float(se2)) \n",
    "    return standardError"
   ]
  },
  {
   "cell_type": "code",
   "execution_count": null,
   "id": "2274637a",
   "metadata": {},
   "outputs": [
    {
     "name": "stdout",
     "output_type": "stream",
     "text": [
      "0.028319932727228023\n"
     ]
    }
   ],
   "source": [
    "SD = compute_sd_errors(group1=control, group2=exposed)\n",
    "print(SD)"
   ]
  },
  {
   "cell_type": "code",
   "execution_count": null,
   "id": "e40d4690",
   "metadata": {},
   "outputs": [],
   "source": [
    "def test3(group1, group2, SD, d):\n",
    "\n",
    "    alpha = 0.05\n",
    "    tStatistic = (d-0) / SD\n",
    "# \n",
    "    n1 = (group1['no'].sum() + group1['yes'].sum())\n",
    "    n2 = (group2['no'].sum() + group2['yes'].sum())\n",
    "#     \n",
    "    dof = (n1 + n2 - 2.0)\n",
    "#     \n",
    "    criticalValue = scipy.stats.t.ppf(1.0 - alpha, df = dof)\n",
    "# Confidence Interval\n",
    "    confInt = [d - (criticalValue * SD), d + (criticalValue * SD)]  \n",
    "    p_val = (1 - scipy.stats.t.cdf(abs(tStatistic), df = (n1 + n2-2)) ) * 2.0\n",
    "    return (tStatistic, dof, criticalValue, p_val)"
   ]
  },
  {
   "cell_type": "code",
   "execution_count": null,
   "id": "458a5ee8",
   "metadata": {},
   "outputs": [
    {
     "data": {
      "text/plain": [
       "(0.645680181221037, 1241.0, 1.646082405507605, 0.5186058623605803)"
      ]
     },
     "execution_count": 38,
     "metadata": {},
     "output_type": "execute_result"
    }
   ],
   "source": [
    "test3(group1=control, group2=exposed,SD=SD,d=d)\n"
   ]
  },
  {
   "cell_type": "code",
   "execution_count": null,
   "id": "3746d597",
   "metadata": {},
   "outputs": [
    {
     "name": "stdout",
     "output_type": "stream",
     "text": [
      "Statistic value for z test: 0.6457\n",
      "p-value for z test: 0.5185\n"
     ]
    }
   ],
   "source": [
    "\n",
    "# conclusion on p value\n",
    "# total success values\n",
    "trial_successes = np.array([exposed['yes'].sum(), control['yes'].sum()])\n",
    "# total arrays with [exposed,control ] pair\n",
    "total = np.array([exposed['no'].sum() + exposed['yes'].sum(), control['no'].sum() + control['yes'].sum()])\n",
    "# \n",
    "# compute t-value and p-value\n",
    "zTest_statistic, zTest_pval = proportions_ztest(trial_successes, total, value=0, alternative='two-sided')\n",
    "# \n",
    "print(f'Statistic value for z test: {round(zTest_statistic,4)}')\n",
    "print(f'p-value for z test: {round(zTest_pval,4)}')"
   ]
  },
  {
   "cell_type": "markdown",
   "id": "c358842f",
   "metadata": {},
   "source": [
    "## Conclusion\n",
    "- since the p-value is 0.5185 > significance level (0.05), is not statistically significant and indicates strong evidence for the null hypothesis. This means we retain the null hypothesis and reject the alternative hypothesis. so we fail to reject the Null Hypothesis (Ho)\n"
   ]
  }
 ],
 "metadata": {
  "kernelspec": {
   "display_name": "Python 3.8.5 ('base')",
   "language": "python",
   "name": "python3"
  },
  "language_info": {
   "codemirror_mode": {
    "name": "ipython",
    "version": 3
   },
   "file_extension": ".py",
   "mimetype": "text/x-python",
   "name": "python",
   "nbconvert_exporter": "python",
   "pygments_lexer": "ipython3",
   "version": "3.8.5"
  },
  "vscode": {
   "interpreter": {
    "hash": "b9edf845f1afde2801bee14c4a2518550ef58fae3f59028d02e3ffc42525ae3b"
   }
  }
 },
 "nbformat": 4,
 "nbformat_minor": 5
}
