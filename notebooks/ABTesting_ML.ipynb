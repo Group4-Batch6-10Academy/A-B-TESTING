{
 "cells": [
  {
   "cell_type": "code",
   "execution_count": 1,
   "id": "eeeca8dc",
   "metadata": {},
   "outputs": [],
   "source": [
    "import sys, os\n",
    "sys.path.append(os.path.abspath(os.path.join('..')))"
   ]
  },
  {
   "cell_type": "code",
   "execution_count": 2,
   "id": "9f2b6f6a",
   "metadata": {},
   "outputs": [],
   "source": [
    "from scripts.dataloader import DataLoader\n",
    "import pandas as pd"
   ]
  },
  {
   "cell_type": "code",
   "execution_count": 3,
   "id": "dda8ee5e",
   "metadata": {},
   "outputs": [],
   "source": [
    "dataloader = DataLoader()\n",
    "df = dataloader.read_data('../data', 'AdSmartABdata.csv')"
   ]
  },
  {
   "cell_type": "code",
   "execution_count": 4,
   "id": "6a40e87d",
   "metadata": {},
   "outputs": [
    {
     "data": {
      "text/html": [
       "<div>\n",
       "<style scoped>\n",
       "    .dataframe tbody tr th:only-of-type {\n",
       "        vertical-align: middle;\n",
       "    }\n",
       "\n",
       "    .dataframe tbody tr th {\n",
       "        vertical-align: top;\n",
       "    }\n",
       "\n",
       "    .dataframe thead th {\n",
       "        text-align: right;\n",
       "    }\n",
       "</style>\n",
       "<table border=\"1\" class=\"dataframe\">\n",
       "  <thead>\n",
       "    <tr style=\"text-align: right;\">\n",
       "      <th></th>\n",
       "      <th>auction_id</th>\n",
       "      <th>experiment</th>\n",
       "      <th>date</th>\n",
       "      <th>hour</th>\n",
       "      <th>device_make</th>\n",
       "      <th>platform_os</th>\n",
       "      <th>browser</th>\n",
       "      <th>yes</th>\n",
       "      <th>no</th>\n",
       "    </tr>\n",
       "  </thead>\n",
       "  <tbody>\n",
       "    <tr>\n",
       "      <th>0</th>\n",
       "      <td>0008ef63-77a7-448b-bd1e-075f42c55e39</td>\n",
       "      <td>exposed</td>\n",
       "      <td>2020-07-10</td>\n",
       "      <td>8</td>\n",
       "      <td>Generic Smartphone</td>\n",
       "      <td>6</td>\n",
       "      <td>Chrome Mobile</td>\n",
       "      <td>0</td>\n",
       "      <td>0</td>\n",
       "    </tr>\n",
       "    <tr>\n",
       "      <th>1</th>\n",
       "      <td>000eabc5-17ce-4137-8efe-44734d914446</td>\n",
       "      <td>exposed</td>\n",
       "      <td>2020-07-07</td>\n",
       "      <td>10</td>\n",
       "      <td>Generic Smartphone</td>\n",
       "      <td>6</td>\n",
       "      <td>Chrome Mobile</td>\n",
       "      <td>0</td>\n",
       "      <td>0</td>\n",
       "    </tr>\n",
       "    <tr>\n",
       "      <th>2</th>\n",
       "      <td>0016d14a-ae18-4a02-a204-6ba53b52f2ed</td>\n",
       "      <td>exposed</td>\n",
       "      <td>2020-07-05</td>\n",
       "      <td>2</td>\n",
       "      <td>E5823</td>\n",
       "      <td>6</td>\n",
       "      <td>Chrome Mobile WebView</td>\n",
       "      <td>0</td>\n",
       "      <td>1</td>\n",
       "    </tr>\n",
       "    <tr>\n",
       "      <th>3</th>\n",
       "      <td>00187412-2932-4542-a8ef-3633901c98d9</td>\n",
       "      <td>control</td>\n",
       "      <td>2020-07-03</td>\n",
       "      <td>15</td>\n",
       "      <td>Samsung SM-A705FN</td>\n",
       "      <td>6</td>\n",
       "      <td>Facebook</td>\n",
       "      <td>0</td>\n",
       "      <td>0</td>\n",
       "    </tr>\n",
       "    <tr>\n",
       "      <th>4</th>\n",
       "      <td>001a7785-d3fe-4e11-a344-c8735acacc2c</td>\n",
       "      <td>control</td>\n",
       "      <td>2020-07-03</td>\n",
       "      <td>15</td>\n",
       "      <td>Generic Smartphone</td>\n",
       "      <td>6</td>\n",
       "      <td>Chrome Mobile</td>\n",
       "      <td>0</td>\n",
       "      <td>0</td>\n",
       "    </tr>\n",
       "  </tbody>\n",
       "</table>\n",
       "</div>"
      ],
      "text/plain": [
       "                             auction_id experiment        date  hour  \\\n",
       "0  0008ef63-77a7-448b-bd1e-075f42c55e39    exposed  2020-07-10     8   \n",
       "1  000eabc5-17ce-4137-8efe-44734d914446    exposed  2020-07-07    10   \n",
       "2  0016d14a-ae18-4a02-a204-6ba53b52f2ed    exposed  2020-07-05     2   \n",
       "3  00187412-2932-4542-a8ef-3633901c98d9    control  2020-07-03    15   \n",
       "4  001a7785-d3fe-4e11-a344-c8735acacc2c    control  2020-07-03    15   \n",
       "\n",
       "          device_make  platform_os                browser  yes  no  \n",
       "0  Generic Smartphone            6          Chrome Mobile    0   0  \n",
       "1  Generic Smartphone            6          Chrome Mobile    0   0  \n",
       "2               E5823            6  Chrome Mobile WebView    0   1  \n",
       "3   Samsung SM-A705FN            6               Facebook    0   0  \n",
       "4  Generic Smartphone            6          Chrome Mobile    0   0  "
      ]
     },
     "execution_count": 4,
     "metadata": {},
     "output_type": "execute_result"
    }
   ],
   "source": [
    "df.head()"
   ]
  },
  {
   "cell_type": "markdown",
   "id": "1da22f09",
   "metadata": {},
   "source": [
    "### Divide the dataset in to control and exposed groups"
   ]
  },
  {
   "cell_type": "code",
   "execution_count": 5,
   "id": "abda3d21",
   "metadata": {},
   "outputs": [],
   "source": [
    "control_df = df[df[\"experiment\"] == \"control\"]\n",
    "exposed_df = df[df[\"experiment\"] == \"exposed\"]"
   ]
  },
  {
   "cell_type": "code",
   "execution_count": 6,
   "id": "2995f212",
   "metadata": {},
   "outputs": [
    {
     "data": {
      "text/html": [
       "<div>\n",
       "<style scoped>\n",
       "    .dataframe tbody tr th:only-of-type {\n",
       "        vertical-align: middle;\n",
       "    }\n",
       "\n",
       "    .dataframe tbody tr th {\n",
       "        vertical-align: top;\n",
       "    }\n",
       "\n",
       "    .dataframe thead th {\n",
       "        text-align: right;\n",
       "    }\n",
       "</style>\n",
       "<table border=\"1\" class=\"dataframe\">\n",
       "  <thead>\n",
       "    <tr style=\"text-align: right;\">\n",
       "      <th></th>\n",
       "      <th>auction_id</th>\n",
       "      <th>experiment</th>\n",
       "      <th>date</th>\n",
       "      <th>hour</th>\n",
       "      <th>device_make</th>\n",
       "      <th>platform_os</th>\n",
       "      <th>browser</th>\n",
       "      <th>yes</th>\n",
       "      <th>no</th>\n",
       "    </tr>\n",
       "  </thead>\n",
       "  <tbody>\n",
       "    <tr>\n",
       "      <th>3</th>\n",
       "      <td>00187412-2932-4542-a8ef-3633901c98d9</td>\n",
       "      <td>control</td>\n",
       "      <td>2020-07-03</td>\n",
       "      <td>15</td>\n",
       "      <td>Samsung SM-A705FN</td>\n",
       "      <td>6</td>\n",
       "      <td>Facebook</td>\n",
       "      <td>0</td>\n",
       "      <td>0</td>\n",
       "    </tr>\n",
       "    <tr>\n",
       "      <th>4</th>\n",
       "      <td>001a7785-d3fe-4e11-a344-c8735acacc2c</td>\n",
       "      <td>control</td>\n",
       "      <td>2020-07-03</td>\n",
       "      <td>15</td>\n",
       "      <td>Generic Smartphone</td>\n",
       "      <td>6</td>\n",
       "      <td>Chrome Mobile</td>\n",
       "      <td>0</td>\n",
       "      <td>0</td>\n",
       "    </tr>\n",
       "    <tr>\n",
       "      <th>5</th>\n",
       "      <td>0027ce48-d3c6-4935-bb12-dfb5d5627857</td>\n",
       "      <td>control</td>\n",
       "      <td>2020-07-03</td>\n",
       "      <td>15</td>\n",
       "      <td>Samsung SM-G960F</td>\n",
       "      <td>6</td>\n",
       "      <td>Facebook</td>\n",
       "      <td>0</td>\n",
       "      <td>0</td>\n",
       "    </tr>\n",
       "    <tr>\n",
       "      <th>6</th>\n",
       "      <td>002e308b-1a07-49d6-8560-0fbcdcd71e4b</td>\n",
       "      <td>control</td>\n",
       "      <td>2020-07-03</td>\n",
       "      <td>15</td>\n",
       "      <td>Generic Smartphone</td>\n",
       "      <td>6</td>\n",
       "      <td>Chrome Mobile</td>\n",
       "      <td>0</td>\n",
       "      <td>0</td>\n",
       "    </tr>\n",
       "    <tr>\n",
       "      <th>7</th>\n",
       "      <td>00393fb9-ca32-40c0-bfcb-1bd83f319820</td>\n",
       "      <td>control</td>\n",
       "      <td>2020-07-09</td>\n",
       "      <td>5</td>\n",
       "      <td>Samsung SM-G973F</td>\n",
       "      <td>6</td>\n",
       "      <td>Facebook</td>\n",
       "      <td>0</td>\n",
       "      <td>0</td>\n",
       "    </tr>\n",
       "  </tbody>\n",
       "</table>\n",
       "</div>"
      ],
      "text/plain": [
       "                             auction_id experiment        date  hour  \\\n",
       "3  00187412-2932-4542-a8ef-3633901c98d9    control  2020-07-03    15   \n",
       "4  001a7785-d3fe-4e11-a344-c8735acacc2c    control  2020-07-03    15   \n",
       "5  0027ce48-d3c6-4935-bb12-dfb5d5627857    control  2020-07-03    15   \n",
       "6  002e308b-1a07-49d6-8560-0fbcdcd71e4b    control  2020-07-03    15   \n",
       "7  00393fb9-ca32-40c0-bfcb-1bd83f319820    control  2020-07-09     5   \n",
       "\n",
       "          device_make  platform_os        browser  yes  no  \n",
       "3   Samsung SM-A705FN            6       Facebook    0   0  \n",
       "4  Generic Smartphone            6  Chrome Mobile    0   0  \n",
       "5    Samsung SM-G960F            6       Facebook    0   0  \n",
       "6  Generic Smartphone            6  Chrome Mobile    0   0  \n",
       "7    Samsung SM-G973F            6       Facebook    0   0  "
      ]
     },
     "execution_count": 6,
     "metadata": {},
     "output_type": "execute_result"
    }
   ],
   "source": [
    "control_df.head()"
   ]
  },
  {
   "cell_type": "code",
   "execution_count": 7,
   "id": "1b6a0cbd",
   "metadata": {},
   "outputs": [
    {
     "data": {
      "text/html": [
       "<div>\n",
       "<style scoped>\n",
       "    .dataframe tbody tr th:only-of-type {\n",
       "        vertical-align: middle;\n",
       "    }\n",
       "\n",
       "    .dataframe tbody tr th {\n",
       "        vertical-align: top;\n",
       "    }\n",
       "\n",
       "    .dataframe thead th {\n",
       "        text-align: right;\n",
       "    }\n",
       "</style>\n",
       "<table border=\"1\" class=\"dataframe\">\n",
       "  <thead>\n",
       "    <tr style=\"text-align: right;\">\n",
       "      <th></th>\n",
       "      <th>auction_id</th>\n",
       "      <th>experiment</th>\n",
       "      <th>date</th>\n",
       "      <th>hour</th>\n",
       "      <th>device_make</th>\n",
       "      <th>platform_os</th>\n",
       "      <th>browser</th>\n",
       "      <th>yes</th>\n",
       "      <th>no</th>\n",
       "    </tr>\n",
       "  </thead>\n",
       "  <tbody>\n",
       "    <tr>\n",
       "      <th>0</th>\n",
       "      <td>0008ef63-77a7-448b-bd1e-075f42c55e39</td>\n",
       "      <td>exposed</td>\n",
       "      <td>2020-07-10</td>\n",
       "      <td>8</td>\n",
       "      <td>Generic Smartphone</td>\n",
       "      <td>6</td>\n",
       "      <td>Chrome Mobile</td>\n",
       "      <td>0</td>\n",
       "      <td>0</td>\n",
       "    </tr>\n",
       "    <tr>\n",
       "      <th>1</th>\n",
       "      <td>000eabc5-17ce-4137-8efe-44734d914446</td>\n",
       "      <td>exposed</td>\n",
       "      <td>2020-07-07</td>\n",
       "      <td>10</td>\n",
       "      <td>Generic Smartphone</td>\n",
       "      <td>6</td>\n",
       "      <td>Chrome Mobile</td>\n",
       "      <td>0</td>\n",
       "      <td>0</td>\n",
       "    </tr>\n",
       "    <tr>\n",
       "      <th>2</th>\n",
       "      <td>0016d14a-ae18-4a02-a204-6ba53b52f2ed</td>\n",
       "      <td>exposed</td>\n",
       "      <td>2020-07-05</td>\n",
       "      <td>2</td>\n",
       "      <td>E5823</td>\n",
       "      <td>6</td>\n",
       "      <td>Chrome Mobile WebView</td>\n",
       "      <td>0</td>\n",
       "      <td>1</td>\n",
       "    </tr>\n",
       "    <tr>\n",
       "      <th>8</th>\n",
       "      <td>004940f5-c642-417a-8fd2-c8e5d989f358</td>\n",
       "      <td>exposed</td>\n",
       "      <td>2020-07-04</td>\n",
       "      <td>0</td>\n",
       "      <td>Generic Smartphone</td>\n",
       "      <td>6</td>\n",
       "      <td>Chrome Mobile WebView</td>\n",
       "      <td>0</td>\n",
       "      <td>0</td>\n",
       "    </tr>\n",
       "    <tr>\n",
       "      <th>13</th>\n",
       "      <td>006b9c6e-5f5d-4385-a811-ff20a24b30ac</td>\n",
       "      <td>exposed</td>\n",
       "      <td>2020-07-06</td>\n",
       "      <td>8</td>\n",
       "      <td>Samsung SM-G973F</td>\n",
       "      <td>6</td>\n",
       "      <td>Chrome Mobile WebView</td>\n",
       "      <td>0</td>\n",
       "      <td>0</td>\n",
       "    </tr>\n",
       "  </tbody>\n",
       "</table>\n",
       "</div>"
      ],
      "text/plain": [
       "                              auction_id experiment        date  hour  \\\n",
       "0   0008ef63-77a7-448b-bd1e-075f42c55e39    exposed  2020-07-10     8   \n",
       "1   000eabc5-17ce-4137-8efe-44734d914446    exposed  2020-07-07    10   \n",
       "2   0016d14a-ae18-4a02-a204-6ba53b52f2ed    exposed  2020-07-05     2   \n",
       "8   004940f5-c642-417a-8fd2-c8e5d989f358    exposed  2020-07-04     0   \n",
       "13  006b9c6e-5f5d-4385-a811-ff20a24b30ac    exposed  2020-07-06     8   \n",
       "\n",
       "           device_make  platform_os                browser  yes  no  \n",
       "0   Generic Smartphone            6          Chrome Mobile    0   0  \n",
       "1   Generic Smartphone            6          Chrome Mobile    0   0  \n",
       "2                E5823            6  Chrome Mobile WebView    0   1  \n",
       "8   Generic Smartphone            6  Chrome Mobile WebView    0   0  \n",
       "13    Samsung SM-G973F            6  Chrome Mobile WebView    0   0  "
      ]
     },
     "execution_count": 7,
     "metadata": {},
     "output_type": "execute_result"
    }
   ],
   "source": [
    "exposed_df.head()"
   ]
  },
  {
   "cell_type": "markdown",
   "id": "c66bf9e6",
   "metadata": {},
   "source": [
    "### Select all users that reacted to yes/no"
   ]
  },
  {
   "cell_type": "code",
   "execution_count": 8,
   "id": "a211befe",
   "metadata": {},
   "outputs": [],
   "source": [
    "yes_users_control = control_df[control_df[\"yes\"]== 1]\n",
    "yes_users_exposed = exposed_df[exposed_df[\"yes\"]== 1]\n",
    "no_users_control = control_df[control_df[\"no\"]== 1]\n",
    "no_users_exposed = exposed_df[exposed_df[\"no\"]== 1]"
   ]
  },
  {
   "cell_type": "code",
   "execution_count": 9,
   "id": "0a0052aa",
   "metadata": {},
   "outputs": [],
   "source": [
    "#Drop yes, and no columns\n",
    "yes_users_control = yes_users_control.drop(['yes','no'], axis = 1)\n",
    "yes_users_exposed = yes_users_exposed.drop(['yes','no'], axis = 1)\n",
    "no_users_control = no_users_control.drop(['yes','no'], axis = 1)\n",
    "no_users_exposed = no_users_exposed.drop(['yes','no'], axis = 1)\n",
    "#Add a reaction column\n",
    "yes_users_control[\"reaction\"] = 1\n",
    "yes_users_exposed[\"reaction\"] = 1\n",
    "no_users_control[\"reaction\"] = 0\n",
    "no_users_exposed[\"reaction\"] = 0"
   ]
  },
  {
   "cell_type": "code",
   "execution_count": 10,
   "id": "26838ce3",
   "metadata": {},
   "outputs": [],
   "source": [
    "merged_control = pd.concat([yes_users_control, no_users_control])\n",
    "merged_exposed = pd.concat([yes_users_exposed, no_users_exposed])\n",
    "merged_df = pd.concat([merged_control, merged_exposed])"
   ]
  },
  {
   "cell_type": "code",
   "execution_count": 11,
   "id": "8657c6b8",
   "metadata": {},
   "outputs": [
    {
     "data": {
      "text/html": [
       "<div>\n",
       "<style scoped>\n",
       "    .dataframe tbody tr th:only-of-type {\n",
       "        vertical-align: middle;\n",
       "    }\n",
       "\n",
       "    .dataframe tbody tr th {\n",
       "        vertical-align: top;\n",
       "    }\n",
       "\n",
       "    .dataframe thead th {\n",
       "        text-align: right;\n",
       "    }\n",
       "</style>\n",
       "<table border=\"1\" class=\"dataframe\">\n",
       "  <thead>\n",
       "    <tr style=\"text-align: right;\">\n",
       "      <th></th>\n",
       "      <th>auction_id</th>\n",
       "      <th>experiment</th>\n",
       "      <th>date</th>\n",
       "      <th>hour</th>\n",
       "      <th>device_make</th>\n",
       "      <th>platform_os</th>\n",
       "      <th>browser</th>\n",
       "      <th>reaction</th>\n",
       "    </tr>\n",
       "  </thead>\n",
       "  <tbody>\n",
       "    <tr>\n",
       "      <th>23</th>\n",
       "      <td>00b6fadb-10bd-49e3-a778-290da82f7a8d</td>\n",
       "      <td>control</td>\n",
       "      <td>2020-07-08</td>\n",
       "      <td>4</td>\n",
       "      <td>Samsung SM-A202F</td>\n",
       "      <td>6</td>\n",
       "      <td>Facebook</td>\n",
       "      <td>1</td>\n",
       "    </tr>\n",
       "    <tr>\n",
       "      <th>45</th>\n",
       "      <td>018af862-486e-4da1-a85b-71872120e57c</td>\n",
       "      <td>control</td>\n",
       "      <td>2020-07-03</td>\n",
       "      <td>15</td>\n",
       "      <td>Generic Smartphone</td>\n",
       "      <td>6</td>\n",
       "      <td>Chrome Mobile</td>\n",
       "      <td>1</td>\n",
       "    </tr>\n",
       "    <tr>\n",
       "      <th>100</th>\n",
       "      <td>0332a7f7-0336-4d48-96ad-75da00d916c0</td>\n",
       "      <td>control</td>\n",
       "      <td>2020-07-04</td>\n",
       "      <td>16</td>\n",
       "      <td>Generic Smartphone</td>\n",
       "      <td>6</td>\n",
       "      <td>Chrome Mobile</td>\n",
       "      <td>1</td>\n",
       "    </tr>\n",
       "    <tr>\n",
       "      <th>118</th>\n",
       "      <td>03948b84-b5b1-4f26-81fc-e953218aef1a</td>\n",
       "      <td>control</td>\n",
       "      <td>2020-07-09</td>\n",
       "      <td>20</td>\n",
       "      <td>Samsung SM-G930F</td>\n",
       "      <td>6</td>\n",
       "      <td>Facebook</td>\n",
       "      <td>1</td>\n",
       "    </tr>\n",
       "    <tr>\n",
       "      <th>157</th>\n",
       "      <td>04b69bd8-4849-4489-adcf-08b96a265c40</td>\n",
       "      <td>control</td>\n",
       "      <td>2020-07-07</td>\n",
       "      <td>15</td>\n",
       "      <td>Generic Smartphone</td>\n",
       "      <td>6</td>\n",
       "      <td>Chrome Mobile</td>\n",
       "      <td>1</td>\n",
       "    </tr>\n",
       "  </tbody>\n",
       "</table>\n",
       "</div>"
      ],
      "text/plain": [
       "                               auction_id experiment        date  hour  \\\n",
       "23   00b6fadb-10bd-49e3-a778-290da82f7a8d    control  2020-07-08     4   \n",
       "45   018af862-486e-4da1-a85b-71872120e57c    control  2020-07-03    15   \n",
       "100  0332a7f7-0336-4d48-96ad-75da00d916c0    control  2020-07-04    16   \n",
       "118  03948b84-b5b1-4f26-81fc-e953218aef1a    control  2020-07-09    20   \n",
       "157  04b69bd8-4849-4489-adcf-08b96a265c40    control  2020-07-07    15   \n",
       "\n",
       "            device_make  platform_os        browser  reaction  \n",
       "23     Samsung SM-A202F            6       Facebook         1  \n",
       "45   Generic Smartphone            6  Chrome Mobile         1  \n",
       "100  Generic Smartphone            6  Chrome Mobile         1  \n",
       "118    Samsung SM-G930F            6       Facebook         1  \n",
       "157  Generic Smartphone            6  Chrome Mobile         1  "
      ]
     },
     "execution_count": 11,
     "metadata": {},
     "output_type": "execute_result"
    }
   ],
   "source": [
    "yes_users_control.head()"
   ]
  },
  {
   "cell_type": "code",
   "execution_count": 12,
   "id": "1b330c04",
   "metadata": {},
   "outputs": [
    {
     "data": {
      "text/html": [
       "<div>\n",
       "<style scoped>\n",
       "    .dataframe tbody tr th:only-of-type {\n",
       "        vertical-align: middle;\n",
       "    }\n",
       "\n",
       "    .dataframe tbody tr th {\n",
       "        vertical-align: top;\n",
       "    }\n",
       "\n",
       "    .dataframe thead th {\n",
       "        text-align: right;\n",
       "    }\n",
       "</style>\n",
       "<table border=\"1\" class=\"dataframe\">\n",
       "  <thead>\n",
       "    <tr style=\"text-align: right;\">\n",
       "      <th></th>\n",
       "      <th>auction_id</th>\n",
       "      <th>experiment</th>\n",
       "      <th>date</th>\n",
       "      <th>hour</th>\n",
       "      <th>device_make</th>\n",
       "      <th>platform_os</th>\n",
       "      <th>browser</th>\n",
       "      <th>reaction</th>\n",
       "    </tr>\n",
       "  </thead>\n",
       "  <tbody>\n",
       "    <tr>\n",
       "      <th>16</th>\n",
       "      <td>008aafdf-deef-4482-8fec-d98e3da054da</td>\n",
       "      <td>exposed</td>\n",
       "      <td>2020-07-04</td>\n",
       "      <td>16</td>\n",
       "      <td>Generic Smartphone</td>\n",
       "      <td>6</td>\n",
       "      <td>Chrome Mobile</td>\n",
       "      <td>1</td>\n",
       "    </tr>\n",
       "    <tr>\n",
       "      <th>65</th>\n",
       "      <td>023ec7b5-cb8f-49a5-995f-e0d7c2f702e5</td>\n",
       "      <td>exposed</td>\n",
       "      <td>2020-07-09</td>\n",
       "      <td>13</td>\n",
       "      <td>Samsung SM-G935F</td>\n",
       "      <td>6</td>\n",
       "      <td>Facebook</td>\n",
       "      <td>1</td>\n",
       "    </tr>\n",
       "    <tr>\n",
       "      <th>89</th>\n",
       "      <td>02efdb70-8596-4f3f-b0b2-b91e194f61f7</td>\n",
       "      <td>exposed</td>\n",
       "      <td>2020-07-05</td>\n",
       "      <td>6</td>\n",
       "      <td>Generic Smartphone</td>\n",
       "      <td>6</td>\n",
       "      <td>Chrome Mobile</td>\n",
       "      <td>1</td>\n",
       "    </tr>\n",
       "    <tr>\n",
       "      <th>128</th>\n",
       "      <td>03ee1780-1fa3-4bec-926c-d543a81a6653</td>\n",
       "      <td>exposed</td>\n",
       "      <td>2020-07-04</td>\n",
       "      <td>11</td>\n",
       "      <td>Samsung SM-G981B</td>\n",
       "      <td>6</td>\n",
       "      <td>Chrome Mobile WebView</td>\n",
       "      <td>1</td>\n",
       "    </tr>\n",
       "    <tr>\n",
       "      <th>144</th>\n",
       "      <td>046644f4-b30c-48f9-b069-f804a97b77d9</td>\n",
       "      <td>exposed</td>\n",
       "      <td>2020-07-05</td>\n",
       "      <td>2</td>\n",
       "      <td>Generic Smartphone</td>\n",
       "      <td>6</td>\n",
       "      <td>Chrome Mobile WebView</td>\n",
       "      <td>1</td>\n",
       "    </tr>\n",
       "  </tbody>\n",
       "</table>\n",
       "</div>"
      ],
      "text/plain": [
       "                               auction_id experiment        date  hour  \\\n",
       "16   008aafdf-deef-4482-8fec-d98e3da054da    exposed  2020-07-04    16   \n",
       "65   023ec7b5-cb8f-49a5-995f-e0d7c2f702e5    exposed  2020-07-09    13   \n",
       "89   02efdb70-8596-4f3f-b0b2-b91e194f61f7    exposed  2020-07-05     6   \n",
       "128  03ee1780-1fa3-4bec-926c-d543a81a6653    exposed  2020-07-04    11   \n",
       "144  046644f4-b30c-48f9-b069-f804a97b77d9    exposed  2020-07-05     2   \n",
       "\n",
       "            device_make  platform_os                browser  reaction  \n",
       "16   Generic Smartphone            6          Chrome Mobile         1  \n",
       "65     Samsung SM-G935F            6               Facebook         1  \n",
       "89   Generic Smartphone            6          Chrome Mobile         1  \n",
       "128    Samsung SM-G981B            6  Chrome Mobile WebView         1  \n",
       "144  Generic Smartphone            6  Chrome Mobile WebView         1  "
      ]
     },
     "execution_count": 12,
     "metadata": {},
     "output_type": "execute_result"
    }
   ],
   "source": [
    "yes_users_exposed.head()"
   ]
  },
  {
   "cell_type": "code",
   "execution_count": 13,
   "id": "ae5e69f6",
   "metadata": {},
   "outputs": [
    {
     "data": {
      "text/html": [
       "<div>\n",
       "<style scoped>\n",
       "    .dataframe tbody tr th:only-of-type {\n",
       "        vertical-align: middle;\n",
       "    }\n",
       "\n",
       "    .dataframe tbody tr th {\n",
       "        vertical-align: top;\n",
       "    }\n",
       "\n",
       "    .dataframe thead th {\n",
       "        text-align: right;\n",
       "    }\n",
       "</style>\n",
       "<table border=\"1\" class=\"dataframe\">\n",
       "  <thead>\n",
       "    <tr style=\"text-align: right;\">\n",
       "      <th></th>\n",
       "      <th>auction_id</th>\n",
       "      <th>experiment</th>\n",
       "      <th>date</th>\n",
       "      <th>hour</th>\n",
       "      <th>device_make</th>\n",
       "      <th>platform_os</th>\n",
       "      <th>browser</th>\n",
       "      <th>reaction</th>\n",
       "    </tr>\n",
       "  </thead>\n",
       "  <tbody>\n",
       "    <tr>\n",
       "      <th>23</th>\n",
       "      <td>00b6fadb-10bd-49e3-a778-290da82f7a8d</td>\n",
       "      <td>control</td>\n",
       "      <td>2020-07-08</td>\n",
       "      <td>4</td>\n",
       "      <td>Samsung SM-A202F</td>\n",
       "      <td>6</td>\n",
       "      <td>Facebook</td>\n",
       "      <td>1</td>\n",
       "    </tr>\n",
       "    <tr>\n",
       "      <th>45</th>\n",
       "      <td>018af862-486e-4da1-a85b-71872120e57c</td>\n",
       "      <td>control</td>\n",
       "      <td>2020-07-03</td>\n",
       "      <td>15</td>\n",
       "      <td>Generic Smartphone</td>\n",
       "      <td>6</td>\n",
       "      <td>Chrome Mobile</td>\n",
       "      <td>1</td>\n",
       "    </tr>\n",
       "    <tr>\n",
       "      <th>100</th>\n",
       "      <td>0332a7f7-0336-4d48-96ad-75da00d916c0</td>\n",
       "      <td>control</td>\n",
       "      <td>2020-07-04</td>\n",
       "      <td>16</td>\n",
       "      <td>Generic Smartphone</td>\n",
       "      <td>6</td>\n",
       "      <td>Chrome Mobile</td>\n",
       "      <td>1</td>\n",
       "    </tr>\n",
       "    <tr>\n",
       "      <th>118</th>\n",
       "      <td>03948b84-b5b1-4f26-81fc-e953218aef1a</td>\n",
       "      <td>control</td>\n",
       "      <td>2020-07-09</td>\n",
       "      <td>20</td>\n",
       "      <td>Samsung SM-G930F</td>\n",
       "      <td>6</td>\n",
       "      <td>Facebook</td>\n",
       "      <td>1</td>\n",
       "    </tr>\n",
       "    <tr>\n",
       "      <th>157</th>\n",
       "      <td>04b69bd8-4849-4489-adcf-08b96a265c40</td>\n",
       "      <td>control</td>\n",
       "      <td>2020-07-07</td>\n",
       "      <td>15</td>\n",
       "      <td>Generic Smartphone</td>\n",
       "      <td>6</td>\n",
       "      <td>Chrome Mobile</td>\n",
       "      <td>1</td>\n",
       "    </tr>\n",
       "  </tbody>\n",
       "</table>\n",
       "</div>"
      ],
      "text/plain": [
       "                               auction_id experiment        date  hour  \\\n",
       "23   00b6fadb-10bd-49e3-a778-290da82f7a8d    control  2020-07-08     4   \n",
       "45   018af862-486e-4da1-a85b-71872120e57c    control  2020-07-03    15   \n",
       "100  0332a7f7-0336-4d48-96ad-75da00d916c0    control  2020-07-04    16   \n",
       "118  03948b84-b5b1-4f26-81fc-e953218aef1a    control  2020-07-09    20   \n",
       "157  04b69bd8-4849-4489-adcf-08b96a265c40    control  2020-07-07    15   \n",
       "\n",
       "            device_make  platform_os        browser  reaction  \n",
       "23     Samsung SM-A202F            6       Facebook         1  \n",
       "45   Generic Smartphone            6  Chrome Mobile         1  \n",
       "100  Generic Smartphone            6  Chrome Mobile         1  \n",
       "118    Samsung SM-G930F            6       Facebook         1  \n",
       "157  Generic Smartphone            6  Chrome Mobile         1  "
      ]
     },
     "execution_count": 13,
     "metadata": {},
     "output_type": "execute_result"
    }
   ],
   "source": [
    "merged_control.head()"
   ]
  },
  {
   "cell_type": "code",
   "execution_count": 14,
   "id": "49b4729e",
   "metadata": {},
   "outputs": [
    {
     "data": {
      "text/html": [
       "<div>\n",
       "<style scoped>\n",
       "    .dataframe tbody tr th:only-of-type {\n",
       "        vertical-align: middle;\n",
       "    }\n",
       "\n",
       "    .dataframe tbody tr th {\n",
       "        vertical-align: top;\n",
       "    }\n",
       "\n",
       "    .dataframe thead th {\n",
       "        text-align: right;\n",
       "    }\n",
       "</style>\n",
       "<table border=\"1\" class=\"dataframe\">\n",
       "  <thead>\n",
       "    <tr style=\"text-align: right;\">\n",
       "      <th></th>\n",
       "      <th>auction_id</th>\n",
       "      <th>experiment</th>\n",
       "      <th>date</th>\n",
       "      <th>hour</th>\n",
       "      <th>device_make</th>\n",
       "      <th>platform_os</th>\n",
       "      <th>browser</th>\n",
       "      <th>reaction</th>\n",
       "    </tr>\n",
       "  </thead>\n",
       "  <tbody>\n",
       "    <tr>\n",
       "      <th>27</th>\n",
       "      <td>00ebf4a8-060f-4b99-93ac-c62724399483</td>\n",
       "      <td>control</td>\n",
       "      <td>2020-07-03</td>\n",
       "      <td>15</td>\n",
       "      <td>Generic Smartphone</td>\n",
       "      <td>6</td>\n",
       "      <td>Chrome Mobile</td>\n",
       "      <td>0</td>\n",
       "    </tr>\n",
       "    <tr>\n",
       "      <th>48</th>\n",
       "      <td>01985992-d70b-4258-a3a1-60ac5e17bce6</td>\n",
       "      <td>control</td>\n",
       "      <td>2020-07-03</td>\n",
       "      <td>15</td>\n",
       "      <td>Generic Smartphone</td>\n",
       "      <td>6</td>\n",
       "      <td>Chrome Mobile</td>\n",
       "      <td>0</td>\n",
       "    </tr>\n",
       "    <tr>\n",
       "      <th>62</th>\n",
       "      <td>023458f7-122d-475f-9525-1b9a3cc7a033</td>\n",
       "      <td>control</td>\n",
       "      <td>2020-07-03</td>\n",
       "      <td>15</td>\n",
       "      <td>MRD-LX1</td>\n",
       "      <td>6</td>\n",
       "      <td>Facebook</td>\n",
       "      <td>0</td>\n",
       "    </tr>\n",
       "    <tr>\n",
       "      <th>99</th>\n",
       "      <td>0332792f-0de9-4902-9d08-06033c3d8371</td>\n",
       "      <td>control</td>\n",
       "      <td>2020-07-06</td>\n",
       "      <td>2</td>\n",
       "      <td>Samsung SM-J600FN</td>\n",
       "      <td>6</td>\n",
       "      <td>Chrome Mobile WebView</td>\n",
       "      <td>0</td>\n",
       "    </tr>\n",
       "    <tr>\n",
       "      <th>101</th>\n",
       "      <td>0336ce2b-c5cb-454a-b74f-450232223742</td>\n",
       "      <td>control</td>\n",
       "      <td>2020-07-03</td>\n",
       "      <td>15</td>\n",
       "      <td>Samsung SM-A105FN</td>\n",
       "      <td>6</td>\n",
       "      <td>Samsung Internet</td>\n",
       "      <td>0</td>\n",
       "    </tr>\n",
       "  </tbody>\n",
       "</table>\n",
       "</div>"
      ],
      "text/plain": [
       "                               auction_id experiment        date  hour  \\\n",
       "27   00ebf4a8-060f-4b99-93ac-c62724399483    control  2020-07-03    15   \n",
       "48   01985992-d70b-4258-a3a1-60ac5e17bce6    control  2020-07-03    15   \n",
       "62   023458f7-122d-475f-9525-1b9a3cc7a033    control  2020-07-03    15   \n",
       "99   0332792f-0de9-4902-9d08-06033c3d8371    control  2020-07-06     2   \n",
       "101  0336ce2b-c5cb-454a-b74f-450232223742    control  2020-07-03    15   \n",
       "\n",
       "            device_make  platform_os                browser  reaction  \n",
       "27   Generic Smartphone            6          Chrome Mobile         0  \n",
       "48   Generic Smartphone            6          Chrome Mobile         0  \n",
       "62              MRD-LX1            6               Facebook         0  \n",
       "99    Samsung SM-J600FN            6  Chrome Mobile WebView         0  \n",
       "101   Samsung SM-A105FN            6       Samsung Internet         0  "
      ]
     },
     "execution_count": 14,
     "metadata": {},
     "output_type": "execute_result"
    }
   ],
   "source": [
    "no_users_control.head()"
   ]
  },
  {
   "cell_type": "code",
   "execution_count": 15,
   "id": "a5154adb",
   "metadata": {},
   "outputs": [
    {
     "data": {
      "text/html": [
       "<div>\n",
       "<style scoped>\n",
       "    .dataframe tbody tr th:only-of-type {\n",
       "        vertical-align: middle;\n",
       "    }\n",
       "\n",
       "    .dataframe tbody tr th {\n",
       "        vertical-align: top;\n",
       "    }\n",
       "\n",
       "    .dataframe thead th {\n",
       "        text-align: right;\n",
       "    }\n",
       "</style>\n",
       "<table border=\"1\" class=\"dataframe\">\n",
       "  <thead>\n",
       "    <tr style=\"text-align: right;\">\n",
       "      <th></th>\n",
       "      <th>auction_id</th>\n",
       "      <th>experiment</th>\n",
       "      <th>date</th>\n",
       "      <th>hour</th>\n",
       "      <th>device_make</th>\n",
       "      <th>platform_os</th>\n",
       "      <th>browser</th>\n",
       "      <th>reaction</th>\n",
       "    </tr>\n",
       "  </thead>\n",
       "  <tbody>\n",
       "    <tr>\n",
       "      <th>16</th>\n",
       "      <td>008aafdf-deef-4482-8fec-d98e3da054da</td>\n",
       "      <td>exposed</td>\n",
       "      <td>2020-07-04</td>\n",
       "      <td>16</td>\n",
       "      <td>Generic Smartphone</td>\n",
       "      <td>6</td>\n",
       "      <td>Chrome Mobile</td>\n",
       "      <td>1</td>\n",
       "    </tr>\n",
       "    <tr>\n",
       "      <th>65</th>\n",
       "      <td>023ec7b5-cb8f-49a5-995f-e0d7c2f702e5</td>\n",
       "      <td>exposed</td>\n",
       "      <td>2020-07-09</td>\n",
       "      <td>13</td>\n",
       "      <td>Samsung SM-G935F</td>\n",
       "      <td>6</td>\n",
       "      <td>Facebook</td>\n",
       "      <td>1</td>\n",
       "    </tr>\n",
       "    <tr>\n",
       "      <th>89</th>\n",
       "      <td>02efdb70-8596-4f3f-b0b2-b91e194f61f7</td>\n",
       "      <td>exposed</td>\n",
       "      <td>2020-07-05</td>\n",
       "      <td>6</td>\n",
       "      <td>Generic Smartphone</td>\n",
       "      <td>6</td>\n",
       "      <td>Chrome Mobile</td>\n",
       "      <td>1</td>\n",
       "    </tr>\n",
       "    <tr>\n",
       "      <th>128</th>\n",
       "      <td>03ee1780-1fa3-4bec-926c-d543a81a6653</td>\n",
       "      <td>exposed</td>\n",
       "      <td>2020-07-04</td>\n",
       "      <td>11</td>\n",
       "      <td>Samsung SM-G981B</td>\n",
       "      <td>6</td>\n",
       "      <td>Chrome Mobile WebView</td>\n",
       "      <td>1</td>\n",
       "    </tr>\n",
       "    <tr>\n",
       "      <th>144</th>\n",
       "      <td>046644f4-b30c-48f9-b069-f804a97b77d9</td>\n",
       "      <td>exposed</td>\n",
       "      <td>2020-07-05</td>\n",
       "      <td>2</td>\n",
       "      <td>Generic Smartphone</td>\n",
       "      <td>6</td>\n",
       "      <td>Chrome Mobile WebView</td>\n",
       "      <td>1</td>\n",
       "    </tr>\n",
       "  </tbody>\n",
       "</table>\n",
       "</div>"
      ],
      "text/plain": [
       "                               auction_id experiment        date  hour  \\\n",
       "16   008aafdf-deef-4482-8fec-d98e3da054da    exposed  2020-07-04    16   \n",
       "65   023ec7b5-cb8f-49a5-995f-e0d7c2f702e5    exposed  2020-07-09    13   \n",
       "89   02efdb70-8596-4f3f-b0b2-b91e194f61f7    exposed  2020-07-05     6   \n",
       "128  03ee1780-1fa3-4bec-926c-d543a81a6653    exposed  2020-07-04    11   \n",
       "144  046644f4-b30c-48f9-b069-f804a97b77d9    exposed  2020-07-05     2   \n",
       "\n",
       "            device_make  platform_os                browser  reaction  \n",
       "16   Generic Smartphone            6          Chrome Mobile         1  \n",
       "65     Samsung SM-G935F            6               Facebook         1  \n",
       "89   Generic Smartphone            6          Chrome Mobile         1  \n",
       "128    Samsung SM-G981B            6  Chrome Mobile WebView         1  \n",
       "144  Generic Smartphone            6  Chrome Mobile WebView         1  "
      ]
     },
     "execution_count": 15,
     "metadata": {},
     "output_type": "execute_result"
    }
   ],
   "source": [
    "merged_exposed.head()"
   ]
  },
  {
   "cell_type": "markdown",
   "id": "214e29b8",
   "metadata": {},
   "source": [
    "### Shuffle rows"
   ]
  },
  {
   "cell_type": "code",
   "execution_count": 16,
   "id": "88d5ddef",
   "metadata": {},
   "outputs": [],
   "source": [
    "merged_exposed = merged_exposed.sample(frac=1).reset_index(drop=True)\n",
    "merged_control = merged_control.sample(frac=1).reset_index(drop=True)\n",
    "merged_df = merged_df.sample(frac=1).reset_index(drop=True)"
   ]
  },
  {
   "cell_type": "code",
   "execution_count": 17,
   "id": "1cfa9e1a",
   "metadata": {},
   "outputs": [
    {
     "data": {
      "text/html": [
       "<div>\n",
       "<style scoped>\n",
       "    .dataframe tbody tr th:only-of-type {\n",
       "        vertical-align: middle;\n",
       "    }\n",
       "\n",
       "    .dataframe tbody tr th {\n",
       "        vertical-align: top;\n",
       "    }\n",
       "\n",
       "    .dataframe thead th {\n",
       "        text-align: right;\n",
       "    }\n",
       "</style>\n",
       "<table border=\"1\" class=\"dataframe\">\n",
       "  <thead>\n",
       "    <tr style=\"text-align: right;\">\n",
       "      <th></th>\n",
       "      <th>auction_id</th>\n",
       "      <th>experiment</th>\n",
       "      <th>date</th>\n",
       "      <th>hour</th>\n",
       "      <th>device_make</th>\n",
       "      <th>platform_os</th>\n",
       "      <th>browser</th>\n",
       "      <th>reaction</th>\n",
       "    </tr>\n",
       "  </thead>\n",
       "  <tbody>\n",
       "    <tr>\n",
       "      <th>0</th>\n",
       "      <td>4796d66c-1849-4a31-bb38-75b0d41d566c</td>\n",
       "      <td>exposed</td>\n",
       "      <td>2020-07-06</td>\n",
       "      <td>9</td>\n",
       "      <td>Generic Smartphone</td>\n",
       "      <td>6</td>\n",
       "      <td>Chrome Mobile</td>\n",
       "      <td>0</td>\n",
       "    </tr>\n",
       "    <tr>\n",
       "      <th>1</th>\n",
       "      <td>3413350e-0885-4d5f-b40e-7bc05a9c3ec1</td>\n",
       "      <td>control</td>\n",
       "      <td>2020-07-03</td>\n",
       "      <td>15</td>\n",
       "      <td>Samsung SM-A705FN</td>\n",
       "      <td>6</td>\n",
       "      <td>Facebook</td>\n",
       "      <td>0</td>\n",
       "    </tr>\n",
       "    <tr>\n",
       "      <th>2</th>\n",
       "      <td>22d8d49e-4dbc-446a-b168-09251d377d12</td>\n",
       "      <td>control</td>\n",
       "      <td>2020-07-03</td>\n",
       "      <td>15</td>\n",
       "      <td>Generic Smartphone</td>\n",
       "      <td>6</td>\n",
       "      <td>Chrome Mobile</td>\n",
       "      <td>0</td>\n",
       "    </tr>\n",
       "    <tr>\n",
       "      <th>3</th>\n",
       "      <td>b7cc440c-0bcc-415d-a312-b5385ffa4583</td>\n",
       "      <td>exposed</td>\n",
       "      <td>2020-07-09</td>\n",
       "      <td>10</td>\n",
       "      <td>Generic Smartphone</td>\n",
       "      <td>6</td>\n",
       "      <td>Chrome Mobile</td>\n",
       "      <td>0</td>\n",
       "    </tr>\n",
       "    <tr>\n",
       "      <th>4</th>\n",
       "      <td>83e913ff-69cf-4a38-b22b-81bc7d6c8976</td>\n",
       "      <td>exposed</td>\n",
       "      <td>2020-07-08</td>\n",
       "      <td>22</td>\n",
       "      <td>Samsung SM-G980F</td>\n",
       "      <td>6</td>\n",
       "      <td>Facebook</td>\n",
       "      <td>0</td>\n",
       "    </tr>\n",
       "    <tr>\n",
       "      <th>5</th>\n",
       "      <td>8f20687c-c07f-4053-bd1e-835b8757d512</td>\n",
       "      <td>control</td>\n",
       "      <td>2020-07-09</td>\n",
       "      <td>13</td>\n",
       "      <td>Samsung SM-G986B</td>\n",
       "      <td>6</td>\n",
       "      <td>Chrome Mobile WebView</td>\n",
       "      <td>0</td>\n",
       "    </tr>\n",
       "    <tr>\n",
       "      <th>6</th>\n",
       "      <td>bc31e71b-9e4b-4212-a9b4-9e637093c86e</td>\n",
       "      <td>exposed</td>\n",
       "      <td>2020-07-08</td>\n",
       "      <td>16</td>\n",
       "      <td>Generic Smartphone</td>\n",
       "      <td>6</td>\n",
       "      <td>Chrome Mobile</td>\n",
       "      <td>1</td>\n",
       "    </tr>\n",
       "    <tr>\n",
       "      <th>7</th>\n",
       "      <td>d679959d-5f76-42a6-9f82-25b7f1913c51</td>\n",
       "      <td>control</td>\n",
       "      <td>2020-07-04</td>\n",
       "      <td>9</td>\n",
       "      <td>Generic Smartphone</td>\n",
       "      <td>6</td>\n",
       "      <td>Chrome Mobile</td>\n",
       "      <td>1</td>\n",
       "    </tr>\n",
       "    <tr>\n",
       "      <th>8</th>\n",
       "      <td>a98ffc07-6388-48ec-b8dd-1d9f77fd07d3</td>\n",
       "      <td>exposed</td>\n",
       "      <td>2020-07-09</td>\n",
       "      <td>22</td>\n",
       "      <td>Samsung SM-A600FN</td>\n",
       "      <td>6</td>\n",
       "      <td>Chrome Mobile WebView</td>\n",
       "      <td>1</td>\n",
       "    </tr>\n",
       "    <tr>\n",
       "      <th>9</th>\n",
       "      <td>c0cd6b96-dfd3-4ccc-bbeb-435330a05dc2</td>\n",
       "      <td>exposed</td>\n",
       "      <td>2020-07-03</td>\n",
       "      <td>12</td>\n",
       "      <td>OnePlus ONEPLUS A6013</td>\n",
       "      <td>6</td>\n",
       "      <td>Chrome Mobile WebView</td>\n",
       "      <td>1</td>\n",
       "    </tr>\n",
       "  </tbody>\n",
       "</table>\n",
       "</div>"
      ],
      "text/plain": [
       "                             auction_id experiment        date  hour  \\\n",
       "0  4796d66c-1849-4a31-bb38-75b0d41d566c    exposed  2020-07-06     9   \n",
       "1  3413350e-0885-4d5f-b40e-7bc05a9c3ec1    control  2020-07-03    15   \n",
       "2  22d8d49e-4dbc-446a-b168-09251d377d12    control  2020-07-03    15   \n",
       "3  b7cc440c-0bcc-415d-a312-b5385ffa4583    exposed  2020-07-09    10   \n",
       "4  83e913ff-69cf-4a38-b22b-81bc7d6c8976    exposed  2020-07-08    22   \n",
       "5  8f20687c-c07f-4053-bd1e-835b8757d512    control  2020-07-09    13   \n",
       "6  bc31e71b-9e4b-4212-a9b4-9e637093c86e    exposed  2020-07-08    16   \n",
       "7  d679959d-5f76-42a6-9f82-25b7f1913c51    control  2020-07-04     9   \n",
       "8  a98ffc07-6388-48ec-b8dd-1d9f77fd07d3    exposed  2020-07-09    22   \n",
       "9  c0cd6b96-dfd3-4ccc-bbeb-435330a05dc2    exposed  2020-07-03    12   \n",
       "\n",
       "             device_make  platform_os                browser  reaction  \n",
       "0     Generic Smartphone            6          Chrome Mobile         0  \n",
       "1      Samsung SM-A705FN            6               Facebook         0  \n",
       "2     Generic Smartphone            6          Chrome Mobile         0  \n",
       "3     Generic Smartphone            6          Chrome Mobile         0  \n",
       "4       Samsung SM-G980F            6               Facebook         0  \n",
       "5       Samsung SM-G986B            6  Chrome Mobile WebView         0  \n",
       "6     Generic Smartphone            6          Chrome Mobile         1  \n",
       "7     Generic Smartphone            6          Chrome Mobile         1  \n",
       "8      Samsung SM-A600FN            6  Chrome Mobile WebView         1  \n",
       "9  OnePlus ONEPLUS A6013            6  Chrome Mobile WebView         1  "
      ]
     },
     "execution_count": 17,
     "metadata": {},
     "output_type": "execute_result"
    }
   ],
   "source": [
    "merged_df.head(10)"
   ]
  },
  {
   "cell_type": "code",
   "execution_count": 18,
   "id": "01fc0285",
   "metadata": {},
   "outputs": [
    {
     "data": {
      "text/html": [
       "<div>\n",
       "<style scoped>\n",
       "    .dataframe tbody tr th:only-of-type {\n",
       "        vertical-align: middle;\n",
       "    }\n",
       "\n",
       "    .dataframe tbody tr th {\n",
       "        vertical-align: top;\n",
       "    }\n",
       "\n",
       "    .dataframe thead th {\n",
       "        text-align: right;\n",
       "    }\n",
       "</style>\n",
       "<table border=\"1\" class=\"dataframe\">\n",
       "  <thead>\n",
       "    <tr style=\"text-align: right;\">\n",
       "      <th></th>\n",
       "      <th>auction_id</th>\n",
       "      <th>experiment</th>\n",
       "      <th>date</th>\n",
       "      <th>hour</th>\n",
       "      <th>device_make</th>\n",
       "      <th>platform_os</th>\n",
       "      <th>browser</th>\n",
       "      <th>reaction</th>\n",
       "    </tr>\n",
       "  </thead>\n",
       "  <tbody>\n",
       "    <tr>\n",
       "      <th>0</th>\n",
       "      <td>981812f8-45ec-49ae-86a8-327fce9f3db0</td>\n",
       "      <td>exposed</td>\n",
       "      <td>2020-07-07</td>\n",
       "      <td>17</td>\n",
       "      <td>Samsung SM-A515F</td>\n",
       "      <td>6</td>\n",
       "      <td>Chrome Mobile WebView</td>\n",
       "      <td>0</td>\n",
       "    </tr>\n",
       "    <tr>\n",
       "      <th>1</th>\n",
       "      <td>bc2e2abf-50d9-4c83-898c-405f60c2924c</td>\n",
       "      <td>exposed</td>\n",
       "      <td>2020-07-10</td>\n",
       "      <td>0</td>\n",
       "      <td>Samsung SM-A202F</td>\n",
       "      <td>6</td>\n",
       "      <td>Chrome Mobile WebView</td>\n",
       "      <td>1</td>\n",
       "    </tr>\n",
       "    <tr>\n",
       "      <th>2</th>\n",
       "      <td>b21528ce-584a-4221-9922-5c18182a9635</td>\n",
       "      <td>exposed</td>\n",
       "      <td>2020-07-07</td>\n",
       "      <td>12</td>\n",
       "      <td>Generic Smartphone</td>\n",
       "      <td>6</td>\n",
       "      <td>Chrome Mobile</td>\n",
       "      <td>0</td>\n",
       "    </tr>\n",
       "    <tr>\n",
       "      <th>3</th>\n",
       "      <td>d97c5289-6836-426d-a402-6aac1fec97a9</td>\n",
       "      <td>exposed</td>\n",
       "      <td>2020-07-03</td>\n",
       "      <td>13</td>\n",
       "      <td>OnePlus ONEPLUS A3000</td>\n",
       "      <td>6</td>\n",
       "      <td>Chrome Mobile WebView</td>\n",
       "      <td>1</td>\n",
       "    </tr>\n",
       "    <tr>\n",
       "      <th>4</th>\n",
       "      <td>188bb5f4-f591-47ff-aaec-3756b0ce2ea5</td>\n",
       "      <td>exposed</td>\n",
       "      <td>2020-07-09</td>\n",
       "      <td>6</td>\n",
       "      <td>I3312</td>\n",
       "      <td>6</td>\n",
       "      <td>Chrome Mobile WebView</td>\n",
       "      <td>0</td>\n",
       "    </tr>\n",
       "  </tbody>\n",
       "</table>\n",
       "</div>"
      ],
      "text/plain": [
       "                             auction_id experiment        date  hour  \\\n",
       "0  981812f8-45ec-49ae-86a8-327fce9f3db0    exposed  2020-07-07    17   \n",
       "1  bc2e2abf-50d9-4c83-898c-405f60c2924c    exposed  2020-07-10     0   \n",
       "2  b21528ce-584a-4221-9922-5c18182a9635    exposed  2020-07-07    12   \n",
       "3  d97c5289-6836-426d-a402-6aac1fec97a9    exposed  2020-07-03    13   \n",
       "4  188bb5f4-f591-47ff-aaec-3756b0ce2ea5    exposed  2020-07-09     6   \n",
       "\n",
       "             device_make  platform_os                browser  reaction  \n",
       "0       Samsung SM-A515F            6  Chrome Mobile WebView         0  \n",
       "1       Samsung SM-A202F            6  Chrome Mobile WebView         1  \n",
       "2     Generic Smartphone            6          Chrome Mobile         0  \n",
       "3  OnePlus ONEPLUS A3000            6  Chrome Mobile WebView         1  \n",
       "4                  I3312            6  Chrome Mobile WebView         0  "
      ]
     },
     "execution_count": 18,
     "metadata": {},
     "output_type": "execute_result"
    }
   ],
   "source": [
    "merged_exposed.head()"
   ]
  },
  {
   "cell_type": "code",
   "execution_count": 19,
   "id": "62d11a83",
   "metadata": {},
   "outputs": [
    {
     "data": {
      "text/html": [
       "<div>\n",
       "<style scoped>\n",
       "    .dataframe tbody tr th:only-of-type {\n",
       "        vertical-align: middle;\n",
       "    }\n",
       "\n",
       "    .dataframe tbody tr th {\n",
       "        vertical-align: top;\n",
       "    }\n",
       "\n",
       "    .dataframe thead th {\n",
       "        text-align: right;\n",
       "    }\n",
       "</style>\n",
       "<table border=\"1\" class=\"dataframe\">\n",
       "  <thead>\n",
       "    <tr style=\"text-align: right;\">\n",
       "      <th></th>\n",
       "      <th>auction_id</th>\n",
       "      <th>experiment</th>\n",
       "      <th>date</th>\n",
       "      <th>hour</th>\n",
       "      <th>device_make</th>\n",
       "      <th>platform_os</th>\n",
       "      <th>browser</th>\n",
       "      <th>reaction</th>\n",
       "    </tr>\n",
       "  </thead>\n",
       "  <tbody>\n",
       "    <tr>\n",
       "      <th>0</th>\n",
       "      <td>4c47394c-fd7f-4a7e-aff9-8014893702ee</td>\n",
       "      <td>control</td>\n",
       "      <td>2020-07-03</td>\n",
       "      <td>15</td>\n",
       "      <td>Generic Smartphone</td>\n",
       "      <td>6</td>\n",
       "      <td>Chrome Mobile</td>\n",
       "      <td>0</td>\n",
       "    </tr>\n",
       "    <tr>\n",
       "      <th>1</th>\n",
       "      <td>7e10fa95-9b61-43fb-9bfc-99e5b83a54e5</td>\n",
       "      <td>control</td>\n",
       "      <td>2020-07-03</td>\n",
       "      <td>15</td>\n",
       "      <td>Samsung SM-J600FN</td>\n",
       "      <td>6</td>\n",
       "      <td>Samsung Internet</td>\n",
       "      <td>0</td>\n",
       "    </tr>\n",
       "    <tr>\n",
       "      <th>2</th>\n",
       "      <td>52b30299-274d-4602-8e85-e1714fc6c9f6</td>\n",
       "      <td>control</td>\n",
       "      <td>2020-07-09</td>\n",
       "      <td>7</td>\n",
       "      <td>Samsung SM-J320FN</td>\n",
       "      <td>6</td>\n",
       "      <td>Facebook</td>\n",
       "      <td>0</td>\n",
       "    </tr>\n",
       "    <tr>\n",
       "      <th>3</th>\n",
       "      <td>186ef415-5e35-4831-8459-320402da16a3</td>\n",
       "      <td>control</td>\n",
       "      <td>2020-07-03</td>\n",
       "      <td>15</td>\n",
       "      <td>Samsung SM-J330FN</td>\n",
       "      <td>6</td>\n",
       "      <td>Samsung Internet</td>\n",
       "      <td>1</td>\n",
       "    </tr>\n",
       "    <tr>\n",
       "      <th>4</th>\n",
       "      <td>10057c8e-c2c4-4e8b-83ce-3fed95b0531c</td>\n",
       "      <td>control</td>\n",
       "      <td>2020-07-05</td>\n",
       "      <td>15</td>\n",
       "      <td>Generic Smartphone</td>\n",
       "      <td>6</td>\n",
       "      <td>Chrome Mobile</td>\n",
       "      <td>0</td>\n",
       "    </tr>\n",
       "  </tbody>\n",
       "</table>\n",
       "</div>"
      ],
      "text/plain": [
       "                             auction_id experiment        date  hour  \\\n",
       "0  4c47394c-fd7f-4a7e-aff9-8014893702ee    control  2020-07-03    15   \n",
       "1  7e10fa95-9b61-43fb-9bfc-99e5b83a54e5    control  2020-07-03    15   \n",
       "2  52b30299-274d-4602-8e85-e1714fc6c9f6    control  2020-07-09     7   \n",
       "3  186ef415-5e35-4831-8459-320402da16a3    control  2020-07-03    15   \n",
       "4  10057c8e-c2c4-4e8b-83ce-3fed95b0531c    control  2020-07-05    15   \n",
       "\n",
       "          device_make  platform_os           browser  reaction  \n",
       "0  Generic Smartphone            6     Chrome Mobile         0  \n",
       "1   Samsung SM-J600FN            6  Samsung Internet         0  \n",
       "2   Samsung SM-J320FN            6          Facebook         0  \n",
       "3   Samsung SM-J330FN            6  Samsung Internet         1  \n",
       "4  Generic Smartphone            6     Chrome Mobile         0  "
      ]
     },
     "execution_count": 19,
     "metadata": {},
     "output_type": "execute_result"
    }
   ],
   "source": [
    "merged_control.head()"
   ]
  },
  {
   "cell_type": "markdown",
   "id": "463e87d4",
   "metadata": {},
   "source": [
    "### Label Encoding"
   ]
  },
  {
   "cell_type": "code",
   "execution_count": 20,
   "id": "9357e329",
   "metadata": {},
   "outputs": [],
   "source": [
    "from sklearn import preprocessing\n",
    "def label_encoder(df):\n",
    "    date_encoder = preprocessing.LabelEncoder()\n",
    "    device_encoder = preprocessing.LabelEncoder()\n",
    "    expt_encoder = preprocessing.LabelEncoder()\n",
    "    browse_encoder = preprocessing.LabelEncoder()\n",
    "    df[\"date\"] = date_encoder.fit_transform(df[\"date\"])\n",
    "    df[\"experiment\"] = expt_encoder.fit_transform(df[\"experiment\"])\n",
    "    df[\"device_make\"] = device_encoder.fit_transform(df[\"device_make\"])\n",
    "    df[\"browser\"] = browse_encoder.fit_transform(df[\"browser\"])\n",
    "    return df"
   ]
  },
  {
   "cell_type": "code",
   "execution_count": 21,
   "id": "579b2d1d",
   "metadata": {},
   "outputs": [],
   "source": [
    "merged_encoded = label_encoder(merged_df)"
   ]
  },
  {
   "cell_type": "code",
   "execution_count": 22,
   "id": "7e84d26f",
   "metadata": {},
   "outputs": [
    {
     "data": {
      "text/html": [
       "<div>\n",
       "<style scoped>\n",
       "    .dataframe tbody tr th:only-of-type {\n",
       "        vertical-align: middle;\n",
       "    }\n",
       "\n",
       "    .dataframe tbody tr th {\n",
       "        vertical-align: top;\n",
       "    }\n",
       "\n",
       "    .dataframe thead th {\n",
       "        text-align: right;\n",
       "    }\n",
       "</style>\n",
       "<table border=\"1\" class=\"dataframe\">\n",
       "  <thead>\n",
       "    <tr style=\"text-align: right;\">\n",
       "      <th></th>\n",
       "      <th>auction_id</th>\n",
       "      <th>experiment</th>\n",
       "      <th>date</th>\n",
       "      <th>hour</th>\n",
       "      <th>device_make</th>\n",
       "      <th>platform_os</th>\n",
       "      <th>browser</th>\n",
       "      <th>reaction</th>\n",
       "    </tr>\n",
       "  </thead>\n",
       "  <tbody>\n",
       "    <tr>\n",
       "      <th>1233</th>\n",
       "      <td>fb5be6ce-25eb-4cc5-8f7a-837f6b0ffc69</td>\n",
       "      <td>0</td>\n",
       "      <td>0</td>\n",
       "      <td>15</td>\n",
       "      <td>13</td>\n",
       "      <td>6</td>\n",
       "      <td>1</td>\n",
       "      <td>1</td>\n",
       "    </tr>\n",
       "    <tr>\n",
       "      <th>1234</th>\n",
       "      <td>8800e2cd-984d-4072-a6eb-1fbb597750be</td>\n",
       "      <td>1</td>\n",
       "      <td>5</td>\n",
       "      <td>5</td>\n",
       "      <td>114</td>\n",
       "      <td>5</td>\n",
       "      <td>5</td>\n",
       "      <td>0</td>\n",
       "    </tr>\n",
       "    <tr>\n",
       "      <th>1235</th>\n",
       "      <td>f9c4603c-5ccf-4470-8e63-d1edc6fe87b2</td>\n",
       "      <td>0</td>\n",
       "      <td>4</td>\n",
       "      <td>1</td>\n",
       "      <td>13</td>\n",
       "      <td>6</td>\n",
       "      <td>1</td>\n",
       "      <td>0</td>\n",
       "    </tr>\n",
       "    <tr>\n",
       "      <th>1236</th>\n",
       "      <td>5b2472a3-a8b2-49ce-bd22-fbd2caddb70f</td>\n",
       "      <td>0</td>\n",
       "      <td>5</td>\n",
       "      <td>14</td>\n",
       "      <td>13</td>\n",
       "      <td>6</td>\n",
       "      <td>1</td>\n",
       "      <td>0</td>\n",
       "    </tr>\n",
       "    <tr>\n",
       "      <th>1237</th>\n",
       "      <td>52b30299-274d-4602-8e85-e1714fc6c9f6</td>\n",
       "      <td>0</td>\n",
       "      <td>6</td>\n",
       "      <td>7</td>\n",
       "      <td>79</td>\n",
       "      <td>6</td>\n",
       "      <td>4</td>\n",
       "      <td>0</td>\n",
       "    </tr>\n",
       "    <tr>\n",
       "      <th>1238</th>\n",
       "      <td>4ebdf633-b593-4ea7-ba5e-b185d3044a8d</td>\n",
       "      <td>1</td>\n",
       "      <td>6</td>\n",
       "      <td>10</td>\n",
       "      <td>65</td>\n",
       "      <td>6</td>\n",
       "      <td>4</td>\n",
       "      <td>0</td>\n",
       "    </tr>\n",
       "    <tr>\n",
       "      <th>1239</th>\n",
       "      <td>8b59d2aa-52bf-4816-b60c-a92b187a6e5b</td>\n",
       "      <td>0</td>\n",
       "      <td>0</td>\n",
       "      <td>15</td>\n",
       "      <td>46</td>\n",
       "      <td>6</td>\n",
       "      <td>7</td>\n",
       "      <td>0</td>\n",
       "    </tr>\n",
       "    <tr>\n",
       "      <th>1240</th>\n",
       "      <td>06cf1733-06d1-4c7c-a429-2312177166a2</td>\n",
       "      <td>1</td>\n",
       "      <td>6</td>\n",
       "      <td>20</td>\n",
       "      <td>66</td>\n",
       "      <td>6</td>\n",
       "      <td>7</td>\n",
       "      <td>0</td>\n",
       "    </tr>\n",
       "    <tr>\n",
       "      <th>1241</th>\n",
       "      <td>0c6da1d9-28fe-4cd7-8027-cebb466b611a</td>\n",
       "      <td>1</td>\n",
       "      <td>7</td>\n",
       "      <td>16</td>\n",
       "      <td>13</td>\n",
       "      <td>6</td>\n",
       "      <td>1</td>\n",
       "      <td>0</td>\n",
       "    </tr>\n",
       "    <tr>\n",
       "      <th>1242</th>\n",
       "      <td>e59dad8a-9176-4a11-b7c5-eab06104a848</td>\n",
       "      <td>0</td>\n",
       "      <td>0</td>\n",
       "      <td>15</td>\n",
       "      <td>13</td>\n",
       "      <td>6</td>\n",
       "      <td>1</td>\n",
       "      <td>0</td>\n",
       "    </tr>\n",
       "  </tbody>\n",
       "</table>\n",
       "</div>"
      ],
      "text/plain": [
       "                                auction_id  experiment  date  hour  \\\n",
       "1233  fb5be6ce-25eb-4cc5-8f7a-837f6b0ffc69           0     0    15   \n",
       "1234  8800e2cd-984d-4072-a6eb-1fbb597750be           1     5     5   \n",
       "1235  f9c4603c-5ccf-4470-8e63-d1edc6fe87b2           0     4     1   \n",
       "1236  5b2472a3-a8b2-49ce-bd22-fbd2caddb70f           0     5    14   \n",
       "1237  52b30299-274d-4602-8e85-e1714fc6c9f6           0     6     7   \n",
       "1238  4ebdf633-b593-4ea7-ba5e-b185d3044a8d           1     6    10   \n",
       "1239  8b59d2aa-52bf-4816-b60c-a92b187a6e5b           0     0    15   \n",
       "1240  06cf1733-06d1-4c7c-a429-2312177166a2           1     6    20   \n",
       "1241  0c6da1d9-28fe-4cd7-8027-cebb466b611a           1     7    16   \n",
       "1242  e59dad8a-9176-4a11-b7c5-eab06104a848           0     0    15   \n",
       "\n",
       "      device_make  platform_os  browser  reaction  \n",
       "1233           13            6        1         1  \n",
       "1234          114            5        5         0  \n",
       "1235           13            6        1         0  \n",
       "1236           13            6        1         0  \n",
       "1237           79            6        4         0  \n",
       "1238           65            6        4         0  \n",
       "1239           46            6        7         0  \n",
       "1240           66            6        7         0  \n",
       "1241           13            6        1         0  \n",
       "1242           13            6        1         0  "
      ]
     },
     "execution_count": 22,
     "metadata": {},
     "output_type": "execute_result"
    }
   ],
   "source": [
    "merged_encoded.tail(10)"
   ]
  },
  {
   "cell_type": "markdown",
   "id": "44190e80",
   "metadata": {},
   "source": [
    "### Split data by browser and platform_os"
   ]
  },
  {
   "cell_type": "code",
   "execution_count": 23,
   "id": "3ee287dc",
   "metadata": {},
   "outputs": [],
   "source": [
    "def split_data(df):\n",
    "    browser_cols = [\"auction_id\",\"experiment\",\"date\",\"hour\",\"device_make\",\"browser\",\"reaction\"]\n",
    "    platform_cols = [\"auction_id\",\"experiment\", \"date\",\"hour\",\"device_make\",\"platform_os\",\"reaction\"]\n",
    "    df_browser = df[browser_cols]\n",
    "    df_platform = df[platform_cols]\n",
    "    return df_browser, df_platform"
   ]
  },
  {
   "cell_type": "code",
   "execution_count": 24,
   "id": "0378095d",
   "metadata": {},
   "outputs": [],
   "source": [
    "browser_df, platform_df = split_data(merged_encoded)"
   ]
  },
  {
   "cell_type": "code",
   "execution_count": 25,
   "id": "b34ec81d",
   "metadata": {},
   "outputs": [
    {
     "data": {
      "text/html": [
       "<div>\n",
       "<style scoped>\n",
       "    .dataframe tbody tr th:only-of-type {\n",
       "        vertical-align: middle;\n",
       "    }\n",
       "\n",
       "    .dataframe tbody tr th {\n",
       "        vertical-align: top;\n",
       "    }\n",
       "\n",
       "    .dataframe thead th {\n",
       "        text-align: right;\n",
       "    }\n",
       "</style>\n",
       "<table border=\"1\" class=\"dataframe\">\n",
       "  <thead>\n",
       "    <tr style=\"text-align: right;\">\n",
       "      <th></th>\n",
       "      <th>auction_id</th>\n",
       "      <th>experiment</th>\n",
       "      <th>date</th>\n",
       "      <th>hour</th>\n",
       "      <th>device_make</th>\n",
       "      <th>browser</th>\n",
       "      <th>reaction</th>\n",
       "    </tr>\n",
       "  </thead>\n",
       "  <tbody>\n",
       "    <tr>\n",
       "      <th>0</th>\n",
       "      <td>4796d66c-1849-4a31-bb38-75b0d41d566c</td>\n",
       "      <td>1</td>\n",
       "      <td>3</td>\n",
       "      <td>9</td>\n",
       "      <td>13</td>\n",
       "      <td>1</td>\n",
       "      <td>0</td>\n",
       "    </tr>\n",
       "    <tr>\n",
       "      <th>1</th>\n",
       "      <td>3413350e-0885-4d5f-b40e-7bc05a9c3ec1</td>\n",
       "      <td>0</td>\n",
       "      <td>0</td>\n",
       "      <td>15</td>\n",
       "      <td>54</td>\n",
       "      <td>4</td>\n",
       "      <td>0</td>\n",
       "    </tr>\n",
       "    <tr>\n",
       "      <th>2</th>\n",
       "      <td>22d8d49e-4dbc-446a-b168-09251d377d12</td>\n",
       "      <td>0</td>\n",
       "      <td>0</td>\n",
       "      <td>15</td>\n",
       "      <td>13</td>\n",
       "      <td>1</td>\n",
       "      <td>0</td>\n",
       "    </tr>\n",
       "    <tr>\n",
       "      <th>3</th>\n",
       "      <td>b7cc440c-0bcc-415d-a312-b5385ffa4583</td>\n",
       "      <td>1</td>\n",
       "      <td>6</td>\n",
       "      <td>10</td>\n",
       "      <td>13</td>\n",
       "      <td>1</td>\n",
       "      <td>0</td>\n",
       "    </tr>\n",
       "    <tr>\n",
       "      <th>4</th>\n",
       "      <td>83e913ff-69cf-4a38-b22b-81bc7d6c8976</td>\n",
       "      <td>1</td>\n",
       "      <td>5</td>\n",
       "      <td>22</td>\n",
       "      <td>75</td>\n",
       "      <td>4</td>\n",
       "      <td>0</td>\n",
       "    </tr>\n",
       "  </tbody>\n",
       "</table>\n",
       "</div>"
      ],
      "text/plain": [
       "                             auction_id  experiment  date  hour  device_make  \\\n",
       "0  4796d66c-1849-4a31-bb38-75b0d41d566c           1     3     9           13   \n",
       "1  3413350e-0885-4d5f-b40e-7bc05a9c3ec1           0     0    15           54   \n",
       "2  22d8d49e-4dbc-446a-b168-09251d377d12           0     0    15           13   \n",
       "3  b7cc440c-0bcc-415d-a312-b5385ffa4583           1     6    10           13   \n",
       "4  83e913ff-69cf-4a38-b22b-81bc7d6c8976           1     5    22           75   \n",
       "\n",
       "   browser  reaction  \n",
       "0        1         0  \n",
       "1        4         0  \n",
       "2        1         0  \n",
       "3        1         0  \n",
       "4        4         0  "
      ]
     },
     "execution_count": 25,
     "metadata": {},
     "output_type": "execute_result"
    }
   ],
   "source": [
    "browser_df.head()"
   ]
  },
  {
   "cell_type": "code",
   "execution_count": 26,
   "id": "7ddf38b5",
   "metadata": {},
   "outputs": [
    {
     "data": {
      "text/html": [
       "<div>\n",
       "<style scoped>\n",
       "    .dataframe tbody tr th:only-of-type {\n",
       "        vertical-align: middle;\n",
       "    }\n",
       "\n",
       "    .dataframe tbody tr th {\n",
       "        vertical-align: top;\n",
       "    }\n",
       "\n",
       "    .dataframe thead th {\n",
       "        text-align: right;\n",
       "    }\n",
       "</style>\n",
       "<table border=\"1\" class=\"dataframe\">\n",
       "  <thead>\n",
       "    <tr style=\"text-align: right;\">\n",
       "      <th></th>\n",
       "      <th>auction_id</th>\n",
       "      <th>experiment</th>\n",
       "      <th>date</th>\n",
       "      <th>hour</th>\n",
       "      <th>device_make</th>\n",
       "      <th>platform_os</th>\n",
       "      <th>reaction</th>\n",
       "    </tr>\n",
       "  </thead>\n",
       "  <tbody>\n",
       "    <tr>\n",
       "      <th>0</th>\n",
       "      <td>4796d66c-1849-4a31-bb38-75b0d41d566c</td>\n",
       "      <td>1</td>\n",
       "      <td>3</td>\n",
       "      <td>9</td>\n",
       "      <td>13</td>\n",
       "      <td>6</td>\n",
       "      <td>0</td>\n",
       "    </tr>\n",
       "    <tr>\n",
       "      <th>1</th>\n",
       "      <td>3413350e-0885-4d5f-b40e-7bc05a9c3ec1</td>\n",
       "      <td>0</td>\n",
       "      <td>0</td>\n",
       "      <td>15</td>\n",
       "      <td>54</td>\n",
       "      <td>6</td>\n",
       "      <td>0</td>\n",
       "    </tr>\n",
       "    <tr>\n",
       "      <th>2</th>\n",
       "      <td>22d8d49e-4dbc-446a-b168-09251d377d12</td>\n",
       "      <td>0</td>\n",
       "      <td>0</td>\n",
       "      <td>15</td>\n",
       "      <td>13</td>\n",
       "      <td>6</td>\n",
       "      <td>0</td>\n",
       "    </tr>\n",
       "    <tr>\n",
       "      <th>3</th>\n",
       "      <td>b7cc440c-0bcc-415d-a312-b5385ffa4583</td>\n",
       "      <td>1</td>\n",
       "      <td>6</td>\n",
       "      <td>10</td>\n",
       "      <td>13</td>\n",
       "      <td>6</td>\n",
       "      <td>0</td>\n",
       "    </tr>\n",
       "    <tr>\n",
       "      <th>4</th>\n",
       "      <td>83e913ff-69cf-4a38-b22b-81bc7d6c8976</td>\n",
       "      <td>1</td>\n",
       "      <td>5</td>\n",
       "      <td>22</td>\n",
       "      <td>75</td>\n",
       "      <td>6</td>\n",
       "      <td>0</td>\n",
       "    </tr>\n",
       "  </tbody>\n",
       "</table>\n",
       "</div>"
      ],
      "text/plain": [
       "                             auction_id  experiment  date  hour  device_make  \\\n",
       "0  4796d66c-1849-4a31-bb38-75b0d41d566c           1     3     9           13   \n",
       "1  3413350e-0885-4d5f-b40e-7bc05a9c3ec1           0     0    15           54   \n",
       "2  22d8d49e-4dbc-446a-b168-09251d377d12           0     0    15           13   \n",
       "3  b7cc440c-0bcc-415d-a312-b5385ffa4583           1     6    10           13   \n",
       "4  83e913ff-69cf-4a38-b22b-81bc7d6c8976           1     5    22           75   \n",
       "\n",
       "   platform_os  reaction  \n",
       "0            6         0  \n",
       "1            6         0  \n",
       "2            6         0  \n",
       "3            6         0  \n",
       "4            6         0  "
      ]
     },
     "execution_count": 26,
     "metadata": {},
     "output_type": "execute_result"
    }
   ],
   "source": [
    "platform_df.head()"
   ]
  },
  {
   "cell_type": "markdown",
   "id": "7a58826d",
   "metadata": {},
   "source": [
    "### Modeling"
   ]
  },
  {
   "cell_type": "markdown",
   "id": "2de671cd",
   "metadata": {},
   "source": [
    "#### Logistic regression"
   ]
  },
  {
   "cell_type": "code",
   "execution_count": 27,
   "id": "8574fb8f",
   "metadata": {},
   "outputs": [],
   "source": [
    "from scripts.loggistic_train import logistic_regression"
   ]
  },
  {
   "cell_type": "markdown",
   "id": "d1e128d9",
   "metadata": {},
   "source": [
    "### Train using browser data"
   ]
  },
  {
   "cell_type": "code",
   "execution_count": 28,
   "id": "5b7df8a0",
   "metadata": {},
   "outputs": [
    {
     "name": "stdout",
     "output_type": "stream",
     "text": [
      "Feature: 0, Score: 0.05513\n",
      "Feature: 1, Score: -0.01631\n",
      "Feature: 2, Score: 0.01585\n",
      "Feature: 3, Score: 0.00198\n",
      "Feature: 4, Score: -0.02243\n"
     ]
    },
    {
     "data": {
      "image/png": "[encoded data removed]",
      "text/plain": [
       "<Figure size 432x288 with 1 Axes>"
      ]
     },
     "metadata": {
      "needs_background": "light"
     },
     "output_type": "display_data"
    },
    {
     "data": {
      "image/png": "[encoded data removed]",
      "text/plain": [
       "<Figure size 432x288 with 2 Axes>"
      ]
     },
     "metadata": {
      "needs_background": "light"
     },
     "output_type": "display_data"
    },
    {
     "name": "stdout",
     "output_type": "stream",
     "text": [
      "              precision    recall  f1-score   support\n",
      "\n",
      "         Yes       0.64      0.86      0.74        74\n",
      "          No       0.60      0.29      0.39        51\n",
      "\n",
      "    accuracy                           0.63       125\n",
      "   macro avg       0.62      0.58      0.57       125\n",
      "weighted avg       0.62      0.63      0.60       125\n",
      "\n"
     ]
    },
    {
     "data": {
      "image/png": "[encoded data removed]",
      "text/plain": [
       "<Figure size 432x288 with 1 Axes>"
      ]
     },
     "metadata": {
      "needs_background": "light"
     },
     "output_type": "display_data"
    },
    {
     "name": "stdout",
     "output_type": "stream",
     "text": [
      "Model saved in run d4cb5546e2e448bdba534542069bbc51\n"
     ]
    },
    {
     "name": "stderr",
     "output_type": "stream",
     "text": [
      "/home/hmicheal/.conda/envs/10x/lib/python3.10/site-packages/_distutils_hack/__init__.py:30: UserWarning: Setuptools is replacing distutils.\n",
      "  warnings.warn(\"Setuptools is replacing distutils.\")\n"
     ]
    }
   ],
   "source": [
    "logistic_regression(browser_df)"
   ]
  },
  {
   "cell_type": "markdown",
   "id": "84484534",
   "metadata": {},
   "source": [
    "### Train Using Platform data"
   ]
  },
  {
   "cell_type": "code",
   "execution_count": 29,
   "id": "60947805",
   "metadata": {},
   "outputs": [
    {
     "name": "stdout",
     "output_type": "stream",
     "text": [
      "Feature: 0, Score: 0.16959\n",
      "Feature: 1, Score: 0.00600\n",
      "Feature: 2, Score: 0.01798\n",
      "Feature: 3, Score: 0.00285\n",
      "Feature: 4, Score: 0.77655\n"
     ]
    },
    {
     "data": {
      "image/png": "[encoded data removed]",
      "text/plain": [
       "<Figure size 432x288 with 1 Axes>"
      ]
     },
     "metadata": {
      "needs_background": "light"
     },
     "output_type": "display_data"
    },
    {
     "data": {
      "image/png": "[encoded data removed]",
      "text/plain": [
       "<Figure size 432x288 with 2 Axes>"
      ]
     },
     "metadata": {
      "needs_background": "light"
     },
     "output_type": "display_data"
    },
    {
     "name": "stdout",
     "output_type": "stream",
     "text": [
      "              precision    recall  f1-score   support\n",
      "\n",
      "         Yes       0.64      0.90      0.75        77\n",
      "          No       0.56      0.21      0.30        48\n",
      "\n",
      "    accuracy                           0.63       125\n",
      "   macro avg       0.60      0.55      0.53       125\n",
      "weighted avg       0.61      0.63      0.58       125\n",
      "\n"
     ]
    },
    {
     "data": {
      "image/png": "[encoded data removed]",
      "text/plain": [
       "<Figure size 432x288 with 1 Axes>"
      ]
     },
     "metadata": {
      "needs_background": "light"
     },
     "output_type": "display_data"
    },
    {
     "name": "stdout",
     "output_type": "stream",
     "text": [
      "Model saved in run d4cb5546e2e448bdba534542069bbc51\n"
     ]
    }
   ],
   "source": [
    "logistic_regression(platform_df)"
   ]
  },
  {
   "cell_type": "markdown",
   "id": "9b951976",
   "metadata": {},
   "source": [
    "### Random Forest"
   ]
  },
  {
   "cell_type": "code",
   "execution_count": 30,
   "id": "37dc9395",
   "metadata": {},
   "outputs": [],
   "source": [
    "from scripts.randomforest_train import randomforest_train"
   ]
  },
  {
   "cell_type": "markdown",
   "id": "968ea648",
   "metadata": {},
   "source": [
    "### Train using browser data"
   ]
  },
  {
   "cell_type": "code",
   "execution_count": 31,
   "id": "5d4053d0",
   "metadata": {
    "scrolled": true
   },
   "outputs": [
    {
     "name": "stdout",
     "output_type": "stream",
     "text": [
      "Feature: 0, Score: 0.08219\n",
      "Feature: 1, Score: 0.22377\n",
      "Feature: 2, Score: 0.34778\n",
      "Feature: 3, Score: 0.25012\n",
      "Feature: 4, Score: 0.09613\n"
     ]
    },
    {
     "data": {
      "image/png": "[encoded data removed]",
      "text/plain": [
       "<Figure size 432x288 with 1 Axes>"
      ]
     },
     "metadata": {
      "needs_background": "light"
     },
     "output_type": "display_data"
    },
    {
     "name": "stdout",
     "output_type": "stream",
     "text": [
      "Model saved in run d4cb5546e2e448bdba534542069bbc51\n"
     ]
    }
   ],
   "source": [
    "randomforest_train(browser_df)"
   ]
  },
  {
   "cell_type": "markdown",
   "id": "df7a3e65",
   "metadata": {},
   "source": [
    "### Train using platform data"
   ]
  },
  {
   "cell_type": "code",
   "execution_count": 32,
   "id": "965416c3",
   "metadata": {},
   "outputs": [
    {
     "name": "stdout",
     "output_type": "stream",
     "text": [
      "Feature: 0, Score: 0.08086\n",
      "Feature: 1, Score: 0.23599\n",
      "Feature: 2, Score: 0.36694\n",
      "Feature: 3, Score: 0.31552\n",
      "Feature: 4, Score: 0.00069\n"
     ]
    },
    {
     "data": {
      "image/png": "[encoded data removed]",
      "text/plain": [
       "<Figure size 432x288 with 1 Axes>"
      ]
     },
     "metadata": {
      "needs_background": "light"
     },
     "output_type": "display_data"
    },
    {
     "name": "stdout",
     "output_type": "stream",
     "text": [
      "Model saved in run d4cb5546e2e448bdba534542069bbc51\n"
     ]
    }
   ],
   "source": [
    "randomforest_train(platform_df)"
   ]
  },
  {
   "cell_type": "markdown",
   "id": "ba24e5dc",
   "metadata": {},
   "source": [
    "### XGboost"
   ]
  },
  {
   "cell_type": "markdown",
   "id": "3dd5423f",
   "metadata": {},
   "source": [
    "### Train using browser data"
   ]
  },
  {
   "cell_type": "code",
   "execution_count": 33,
   "id": "f71b3a51",
   "metadata": {},
   "outputs": [],
   "source": [
    "from scripts.xgboost_train import xgboost_train"
   ]
  },
  {
   "cell_type": "code",
   "execution_count": 34,
   "id": "b2f98758",
   "metadata": {},
   "outputs": [
    {
     "name": "stdout",
     "output_type": "stream",
     "text": [
      "Feature: 0, Score: 0.05872\n",
      "Feature: 1, Score: 0.14606\n",
      "Feature: 2, Score: 0.31081\n",
      "Feature: 3, Score: 0.41161\n",
      "Feature: 4, Score: 0.07279\n"
     ]
    },
    {
     "data": {
      "image/png": "[encoded data removed]",
      "text/plain": [
       "<Figure size 432x288 with 1 Axes>"
      ]
     },
     "metadata": {
      "needs_background": "light"
     },
     "output_type": "display_data"
    },
    {
     "name": "stdout",
     "output_type": "stream",
     "text": [
      "Model saved in run d4cb5546e2e448bdba534542069bbc51\n"
     ]
    }
   ],
   "source": [
    "xgboost_train(browser_df)"
   ]
  },
  {
   "cell_type": "markdown",
   "id": "030ca5ab",
   "metadata": {},
   "source": [
    "### Train Using Platform data"
   ]
  },
  {
   "cell_type": "code",
   "execution_count": 35,
   "id": "b21f4551",
   "metadata": {},
   "outputs": [
    {
     "name": "stdout",
     "output_type": "stream",
     "text": [
      "Feature: 0, Score: 0.03871\n",
      "Feature: 1, Score: 0.14786\n",
      "Feature: 2, Score: 0.30238\n",
      "Feature: 3, Score: 0.50941\n",
      "Feature: 4, Score: 0.00165\n"
     ]
    },
    {
     "data": {
      "image/png": "[encoded data removed]",
      "text/plain": [
       "<Figure size 432x288 with 1 Axes>"
      ]
     },
     "metadata": {
      "needs_background": "light"
     },
     "output_type": "display_data"
    },
    {
     "name": "stdout",
     "output_type": "stream",
     "text": [
      "Model saved in run d4cb5546e2e448bdba534542069bbc51\n"
     ]
    }
   ],
   "source": [
    "xgboost_train(platform_df)"
   ]
  },
  {
   "cell_type": "code",
   "execution_count": null,
   "id": "868a40c1",
   "metadata": {},
   "outputs": [],
   "source": []
  }
 ],
 "metadata": {
  "kernelspec": {
   "display_name": "Python 3 (ipykernel)",
   "language": "python",
   "name": "python3"
  },
  "language_info": {
   "codemirror_mode": {
    "name": "ipython",
    "version": 3
   },
   "file_extension": ".py",
   "mimetype": "text/x-python",
   "name": "python",
   "nbconvert_exporter": "python",
   "pygments_lexer": "ipython3",
   "version": "3.10.4"
  }
 },
 "nbformat": 4,
 "nbformat_minor": 5
}
